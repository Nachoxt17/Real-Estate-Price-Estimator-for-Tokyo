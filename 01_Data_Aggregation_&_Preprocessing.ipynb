{
  "cells": [
    {
      "cell_type": "code",
      "execution_count": 114,
      "id": "916f4c2d",
      "metadata": {
        "scrolled": true,
        "id": "916f4c2d"
      },
      "outputs": [],
      "source": [
        "df = pd.read_csv('https://raw.githubusercontent.com/Nachoxt17/Real-Estate-Price-Estimator-for-Tokyo/main/data/tokyo_real_estate_data.csv')"
      ]
    },
    {
      "cell_type": "markdown",
      "id": "deff70aa",
      "metadata": {
        "id": "deff70aa"
      },
      "source": [
        "<hr>"
      ]
    },
    {
      "cell_type": "markdown",
      "id": "82c3b61c",
      "metadata": {
        "id": "82c3b61c"
      },
      "source": [
        "# Data Preprocessing"
      ]
    },
    {
      "cell_type": "markdown",
      "id": "04d7affd",
      "metadata": {
        "id": "04d7affd"
      },
      "source": [
        "## 1 - look at data"
      ]
    },
    {
      "cell_type": "markdown",
      "id": "7fb70ec8",
      "metadata": {
        "id": "7fb70ec8"
      },
      "source": [
        "Let’s see the dimensions of the dataframe."
      ]
    },
    {
      "cell_type": "code",
      "execution_count": 166,
      "id": "72608d15",
      "metadata": {
        "scrolled": true,
        "colab": {
          "base_uri": "https://localhost:8080/",
          "height": 206
        },
        "id": "72608d15",
        "outputId": "0862dcd8-7c87-46dd-a14c-6e3c489f94a2"
      },
      "outputs": [
        {
          "output_type": "execute_result",
          "data": {
            "text/plain": [
              "                                  Type  Municipality  NearStation      Price  \\\n",
              "0  Residential Land(Land and Building)  Chiyoda Ward          2.0  400000000   \n",
              "1  Residential Land(Land and Building)  Chiyoda Ward          1.0  180000000   \n",
              "2  Residential Land(Land and Building)  Chiyoda Ward          4.0  120000000   \n",
              "3  Residential Land(Land and Building)  Chiyoda Ward          3.0  250000000   \n",
              "4  Residential Land(Land and Building)  Chiyoda Ward          3.0  240000000   \n",
              "\n",
              "  FloorPlan  Area                LandShape  Frontage  BuildingYear Structure  \\\n",
              "0        1K   110       Trapezoidal Shaped       9.0        2018.0         S   \n",
              "1        1K    50       Rectangular Shaped       5.2        1976.0        RC   \n",
              "2        1K    65  Semi-rectangular Shaped       6.5        1970.0         S   \n",
              "3        1K    80  Semi-trapezoidal Shaped       6.8        1986.0        RC   \n",
              "4        1K    80  Semi-trapezoidal Shaped       6.8        1986.0        RC   \n",
              "\n",
              "               Use  Direction Renovation  \n",
              "0           Office  Northwest    Not yet  \n",
              "1  Housing Complex  Southwest    Not yet  \n",
              "2            House      South    Not yet  \n",
              "3            House  Southwest    Not yet  \n",
              "4            House  Southwest    Not yet  "
            ],
            "text/html": [
              "\n",
              "  <div id=\"df-59effaec-e4b2-4bcc-b6f6-449a4c8e6563\" class=\"colab-df-container\">\n",
              "    <div>\n",
              "<style scoped>\n",
              "    .dataframe tbody tr th:only-of-type {\n",
              "        vertical-align: middle;\n",
              "    }\n",
              "\n",
              "    .dataframe tbody tr th {\n",
              "        vertical-align: top;\n",
              "    }\n",
              "\n",
              "    .dataframe thead th {\n",
              "        text-align: right;\n",
              "    }\n",
              "</style>\n",
              "<table border=\"1\" class=\"dataframe\">\n",
              "  <thead>\n",
              "    <tr style=\"text-align: right;\">\n",
              "      <th></th>\n",
              "      <th>Type</th>\n",
              "      <th>Municipality</th>\n",
              "      <th>NearStation</th>\n",
              "      <th>Price</th>\n",
              "      <th>FloorPlan</th>\n",
              "      <th>Area</th>\n",
              "      <th>LandShape</th>\n",
              "      <th>Frontage</th>\n",
              "      <th>BuildingYear</th>\n",
              "      <th>Structure</th>\n",
              "      <th>Use</th>\n",
              "      <th>Direction</th>\n",
              "      <th>Renovation</th>\n",
              "    </tr>\n",
              "  </thead>\n",
              "  <tbody>\n",
              "    <tr>\n",
              "      <th>0</th>\n",
              "      <td>Residential Land(Land and Building)</td>\n",
              "      <td>Chiyoda Ward</td>\n",
              "      <td>2.0</td>\n",
              "      <td>400000000</td>\n",
              "      <td>1K</td>\n",
              "      <td>110</td>\n",
              "      <td>Trapezoidal Shaped</td>\n",
              "      <td>9.0</td>\n",
              "      <td>2018.0</td>\n",
              "      <td>S</td>\n",
              "      <td>Office</td>\n",
              "      <td>Northwest</td>\n",
              "      <td>Not yet</td>\n",
              "    </tr>\n",
              "    <tr>\n",
              "      <th>1</th>\n",
              "      <td>Residential Land(Land and Building)</td>\n",
              "      <td>Chiyoda Ward</td>\n",
              "      <td>1.0</td>\n",
              "      <td>180000000</td>\n",
              "      <td>1K</td>\n",
              "      <td>50</td>\n",
              "      <td>Rectangular Shaped</td>\n",
              "      <td>5.2</td>\n",
              "      <td>1976.0</td>\n",
              "      <td>RC</td>\n",
              "      <td>Housing Complex</td>\n",
              "      <td>Southwest</td>\n",
              "      <td>Not yet</td>\n",
              "    </tr>\n",
              "    <tr>\n",
              "      <th>2</th>\n",
              "      <td>Residential Land(Land and Building)</td>\n",
              "      <td>Chiyoda Ward</td>\n",
              "      <td>4.0</td>\n",
              "      <td>120000000</td>\n",
              "      <td>1K</td>\n",
              "      <td>65</td>\n",
              "      <td>Semi-rectangular Shaped</td>\n",
              "      <td>6.5</td>\n",
              "      <td>1970.0</td>\n",
              "      <td>S</td>\n",
              "      <td>House</td>\n",
              "      <td>South</td>\n",
              "      <td>Not yet</td>\n",
              "    </tr>\n",
              "    <tr>\n",
              "      <th>3</th>\n",
              "      <td>Residential Land(Land and Building)</td>\n",
              "      <td>Chiyoda Ward</td>\n",
              "      <td>3.0</td>\n",
              "      <td>250000000</td>\n",
              "      <td>1K</td>\n",
              "      <td>80</td>\n",
              "      <td>Semi-trapezoidal Shaped</td>\n",
              "      <td>6.8</td>\n",
              "      <td>1986.0</td>\n",
              "      <td>RC</td>\n",
              "      <td>House</td>\n",
              "      <td>Southwest</td>\n",
              "      <td>Not yet</td>\n",
              "    </tr>\n",
              "    <tr>\n",
              "      <th>4</th>\n",
              "      <td>Residential Land(Land and Building)</td>\n",
              "      <td>Chiyoda Ward</td>\n",
              "      <td>3.0</td>\n",
              "      <td>240000000</td>\n",
              "      <td>1K</td>\n",
              "      <td>80</td>\n",
              "      <td>Semi-trapezoidal Shaped</td>\n",
              "      <td>6.8</td>\n",
              "      <td>1986.0</td>\n",
              "      <td>RC</td>\n",
              "      <td>House</td>\n",
              "      <td>Southwest</td>\n",
              "      <td>Not yet</td>\n",
              "    </tr>\n",
              "  </tbody>\n",
              "</table>\n",
              "</div>\n",
              "    <div class=\"colab-df-buttons\">\n",
              "\n",
              "  <div class=\"colab-df-container\">\n",
              "    <button class=\"colab-df-convert\" onclick=\"convertToInteractive('df-59effaec-e4b2-4bcc-b6f6-449a4c8e6563')\"\n",
              "            title=\"Convert this dataframe to an interactive table.\"\n",
              "            style=\"display:none;\">\n",
              "\n",
              "  <svg xmlns=\"http://www.w3.org/2000/svg\" height=\"24px\" viewBox=\"0 -960 960 960\">\n",
              "    <path d=\"M120-120v-720h720v720H120Zm60-500h600v-160H180v160Zm220 220h160v-160H400v160Zm0 220h160v-160H400v160ZM180-400h160v-160H180v160Zm440 0h160v-160H620v160ZM180-180h160v-160H180v160Zm440 0h160v-160H620v160Z\"/>\n",
              "  </svg>\n",
              "    </button>\n",
              "\n",
              "  <style>\n",
              "    .colab-df-container {\n",
              "      display:flex;\n",
              "      gap: 12px;\n",
              "    }\n",
              "\n",
              "    .colab-df-convert {\n",
              "      background-color: #E8F0FE;\n",
              "      border: none;\n",
              "      border-radius: 50%;\n",
              "      cursor: pointer;\n",
              "      display: none;\n",
              "      fill: #1967D2;\n",
              "      height: 32px;\n",
              "      padding: 0 0 0 0;\n",
              "      width: 32px;\n",
              "    }\n",
              "\n",
              "    .colab-df-convert:hover {\n",
              "      background-color: #E2EBFA;\n",
              "      box-shadow: 0px 1px 2px rgba(60, 64, 67, 0.3), 0px 1px 3px 1px rgba(60, 64, 67, 0.15);\n",
              "      fill: #174EA6;\n",
              "    }\n",
              "\n",
              "    .colab-df-buttons div {\n",
              "      margin-bottom: 4px;\n",
              "    }\n",
              "\n",
              "    [theme=dark] .colab-df-convert {\n",
              "      background-color: #3B4455;\n",
              "      fill: #D2E3FC;\n",
              "    }\n",
              "\n",
              "    [theme=dark] .colab-df-convert:hover {\n",
              "      background-color: #434B5C;\n",
              "      box-shadow: 0px 1px 3px 1px rgba(0, 0, 0, 0.15);\n",
              "      filter: drop-shadow(0px 1px 2px rgba(0, 0, 0, 0.3));\n",
              "      fill: #FFFFFF;\n",
              "    }\n",
              "  </style>\n",
              "\n",
              "    <script>\n",
              "      const buttonEl =\n",
              "        document.querySelector('#df-59effaec-e4b2-4bcc-b6f6-449a4c8e6563 button.colab-df-convert');\n",
              "      buttonEl.style.display =\n",
              "        google.colab.kernel.accessAllowed ? 'block' : 'none';\n",
              "\n",
              "      async function convertToInteractive(key) {\n",
              "        const element = document.querySelector('#df-59effaec-e4b2-4bcc-b6f6-449a4c8e6563');\n",
              "        const dataTable =\n",
              "          await google.colab.kernel.invokeFunction('convertToInteractive',\n",
              "                                                    [key], {});\n",
              "        if (!dataTable) return;\n",
              "\n",
              "        const docLinkHtml = 'Like what you see? Visit the ' +\n",
              "          '<a target=\"_blank\" href=https://colab.research.google.com/notebooks/data_table.ipynb>data table notebook</a>'\n",
              "          + ' to learn more about interactive tables.';\n",
              "        element.innerHTML = '';\n",
              "        dataTable['output_type'] = 'display_data';\n",
              "        await google.colab.output.renderOutput(dataTable, element);\n",
              "        const docLink = document.createElement('div');\n",
              "        docLink.innerHTML = docLinkHtml;\n",
              "        element.appendChild(docLink);\n",
              "      }\n",
              "    </script>\n",
              "  </div>\n",
              "\n",
              "\n",
              "    <div id=\"df-ec13f133-bd92-4097-bdfc-9f95e3066b7d\">\n",
              "      <button class=\"colab-df-quickchart\" onclick=\"quickchart('df-ec13f133-bd92-4097-bdfc-9f95e3066b7d')\"\n",
              "                title=\"Suggest charts\"\n",
              "                style=\"display:none;\">\n",
              "\n",
              "<svg xmlns=\"http://www.w3.org/2000/svg\" height=\"24px\"viewBox=\"0 0 24 24\"\n",
              "     width=\"24px\">\n",
              "    <g>\n",
              "        <path d=\"M19 3H5c-1.1 0-2 .9-2 2v14c0 1.1.9 2 2 2h14c1.1 0 2-.9 2-2V5c0-1.1-.9-2-2-2zM9 17H7v-7h2v7zm4 0h-2V7h2v10zm4 0h-2v-4h2v4z\"/>\n",
              "    </g>\n",
              "</svg>\n",
              "      </button>\n",
              "\n",
              "<style>\n",
              "  .colab-df-quickchart {\n",
              "      --bg-color: #E8F0FE;\n",
              "      --fill-color: #1967D2;\n",
              "      --hover-bg-color: #E2EBFA;\n",
              "      --hover-fill-color: #174EA6;\n",
              "      --disabled-fill-color: #AAA;\n",
              "      --disabled-bg-color: #DDD;\n",
              "  }\n",
              "\n",
              "  [theme=dark] .colab-df-quickchart {\n",
              "      --bg-color: #3B4455;\n",
              "      --fill-color: #D2E3FC;\n",
              "      --hover-bg-color: #434B5C;\n",
              "      --hover-fill-color: #FFFFFF;\n",
              "      --disabled-bg-color: #3B4455;\n",
              "      --disabled-fill-color: #666;\n",
              "  }\n",
              "\n",
              "  .colab-df-quickchart {\n",
              "    background-color: var(--bg-color);\n",
              "    border: none;\n",
              "    border-radius: 50%;\n",
              "    cursor: pointer;\n",
              "    display: none;\n",
              "    fill: var(--fill-color);\n",
              "    height: 32px;\n",
              "    padding: 0;\n",
              "    width: 32px;\n",
              "  }\n",
              "\n",
              "  .colab-df-quickchart:hover {\n",
              "    background-color: var(--hover-bg-color);\n",
              "    box-shadow: 0 1px 2px rgba(60, 64, 67, 0.3), 0 1px 3px 1px rgba(60, 64, 67, 0.15);\n",
              "    fill: var(--button-hover-fill-color);\n",
              "  }\n",
              "\n",
              "  .colab-df-quickchart-complete:disabled,\n",
              "  .colab-df-quickchart-complete:disabled:hover {\n",
              "    background-color: var(--disabled-bg-color);\n",
              "    fill: var(--disabled-fill-color);\n",
              "    box-shadow: none;\n",
              "  }\n",
              "\n",
              "  .colab-df-spinner {\n",
              "    border: 2px solid var(--fill-color);\n",
              "    border-color: transparent;\n",
              "    border-bottom-color: var(--fill-color);\n",
              "    animation:\n",
              "      spin 1s steps(1) infinite;\n",
              "  }\n",
              "\n",
              "  @keyframes spin {\n",
              "    0% {\n",
              "      border-color: transparent;\n",
              "      border-bottom-color: var(--fill-color);\n",
              "      border-left-color: var(--fill-color);\n",
              "    }\n",
              "    20% {\n",
              "      border-color: transparent;\n",
              "      border-left-color: var(--fill-color);\n",
              "      border-top-color: var(--fill-color);\n",
              "    }\n",
              "    30% {\n",
              "      border-color: transparent;\n",
              "      border-left-color: var(--fill-color);\n",
              "      border-top-color: var(--fill-color);\n",
              "      border-right-color: var(--fill-color);\n",
              "    }\n",
              "    40% {\n",
              "      border-color: transparent;\n",
              "      border-right-color: var(--fill-color);\n",
              "      border-top-color: var(--fill-color);\n",
              "    }\n",
              "    60% {\n",
              "      border-color: transparent;\n",
              "      border-right-color: var(--fill-color);\n",
              "    }\n",
              "    80% {\n",
              "      border-color: transparent;\n",
              "      border-right-color: var(--fill-color);\n",
              "      border-bottom-color: var(--fill-color);\n",
              "    }\n",
              "    90% {\n",
              "      border-color: transparent;\n",
              "      border-bottom-color: var(--fill-color);\n",
              "    }\n",
              "  }\n",
              "</style>\n",
              "\n",
              "      <script>\n",
              "        async function quickchart(key) {\n",
              "          const quickchartButtonEl =\n",
              "            document.querySelector('#' + key + ' button');\n",
              "          quickchartButtonEl.disabled = true;  // To prevent multiple clicks.\n",
              "          quickchartButtonEl.classList.add('colab-df-spinner');\n",
              "          try {\n",
              "            const charts = await google.colab.kernel.invokeFunction(\n",
              "                'suggestCharts', [key], {});\n",
              "          } catch (error) {\n",
              "            console.error('Error during call to suggestCharts:', error);\n",
              "          }\n",
              "          quickchartButtonEl.classList.remove('colab-df-spinner');\n",
              "          quickchartButtonEl.classList.add('colab-df-quickchart-complete');\n",
              "        }\n",
              "        (() => {\n",
              "          let quickchartButtonEl =\n",
              "            document.querySelector('#df-ec13f133-bd92-4097-bdfc-9f95e3066b7d button');\n",
              "          quickchartButtonEl.style.display =\n",
              "            google.colab.kernel.accessAllowed ? 'block' : 'none';\n",
              "        })();\n",
              "      </script>\n",
              "    </div>\n",
              "\n",
              "    </div>\n",
              "  </div>\n"
            ],
            "application/vnd.google.colaboratory.intrinsic+json": {
              "type": "dataframe",
              "variable_name": "df",
              "summary": "{\n  \"name\": \"df\",\n  \"rows\": 2761,\n  \"fields\": [\n    {\n      \"column\": \"Type\",\n      \"properties\": {\n        \"dtype\": \"category\",\n        \"num_unique_values\": 1,\n        \"samples\": [\n          \"Residential Land(Land and Building)\"\n        ],\n        \"semantic_type\": \"\",\n        \"description\": \"\"\n      }\n    },\n    {\n      \"column\": \"Municipality\",\n      \"properties\": {\n        \"dtype\": \"category\",\n        \"num_unique_values\": 5,\n        \"samples\": [\n          \"Chuo Ward\"\n        ],\n        \"semantic_type\": \"\",\n        \"description\": \"\"\n      }\n    },\n    {\n      \"column\": \"NearStation\",\n      \"properties\": {\n        \"dtype\": \"number\",\n        \"std\": 2.584476557804077,\n        \"min\": 0.0,\n        \"max\": 16.0,\n        \"num_unique_values\": 17,\n        \"samples\": [\n          2.0\n        ],\n        \"semantic_type\": \"\",\n        \"description\": \"\"\n      }\n    },\n    {\n      \"column\": \"Price\",\n      \"properties\": {\n        \"dtype\": \"number\",\n        \"std\": 1623304366,\n        \"min\": 520000,\n        \"max\": 61000000000,\n        \"num_unique_values\": 249,\n        \"samples\": [\n          22000000\n        ],\n        \"semantic_type\": \"\",\n        \"description\": \"\"\n      }\n    },\n    {\n      \"column\": \"FloorPlan\",\n      \"properties\": {\n        \"dtype\": \"category\",\n        \"num_unique_values\": 1,\n        \"samples\": [\n          \"1K\"\n        ],\n        \"semantic_type\": \"\",\n        \"description\": \"\"\n      }\n    },\n    {\n      \"column\": \"Area\",\n      \"properties\": {\n        \"dtype\": \"number\",\n        \"std\": 215,\n        \"min\": 30,\n        \"max\": 2000,\n        \"num_unique_values\": 113,\n        \"samples\": [\n          430\n        ],\n        \"semantic_type\": \"\",\n        \"description\": \"\"\n      }\n    },\n    {\n      \"column\": \"LandShape\",\n      \"properties\": {\n        \"dtype\": \"category\",\n        \"num_unique_values\": 10,\n        \"samples\": [\n          \"Square Shaped\"\n        ],\n        \"semantic_type\": \"\",\n        \"description\": \"\"\n      }\n    },\n    {\n      \"column\": \"Frontage\",\n      \"properties\": {\n        \"dtype\": \"number\",\n        \"std\": 6.255040057595594,\n        \"min\": 1.0,\n        \"max\": 50.0,\n        \"num_unique_values\": 235,\n        \"samples\": [\n          10.6\n        ],\n        \"semantic_type\": \"\",\n        \"description\": \"\"\n      }\n    },\n    {\n      \"column\": \"BuildingYear\",\n      \"properties\": {\n        \"dtype\": \"number\",\n        \"std\": 17.1821174012828,\n        \"min\": 1945.0,\n        \"max\": 2020.0,\n        \"num_unique_values\": 75,\n        \"samples\": [\n          1982.0\n        ],\n        \"semantic_type\": \"\",\n        \"description\": \"\"\n      }\n    },\n    {\n      \"column\": \"Structure\",\n      \"properties\": {\n        \"dtype\": \"category\",\n        \"num_unique_values\": 6,\n        \"samples\": [\n          \"S\"\n        ],\n        \"semantic_type\": \"\",\n        \"description\": \"\"\n      }\n    },\n    {\n      \"column\": \"Use\",\n      \"properties\": {\n        \"dtype\": \"category\",\n        \"num_unique_values\": 9,\n        \"samples\": [\n          \"Workshop\"\n        ],\n        \"semantic_type\": \"\",\n        \"description\": \"\"\n      }\n    },\n    {\n      \"column\": \"Direction\",\n      \"properties\": {\n        \"dtype\": \"category\",\n        \"num_unique_values\": 9,\n        \"samples\": [\n          \"North\"\n        ],\n        \"semantic_type\": \"\",\n        \"description\": \"\"\n      }\n    },\n    {\n      \"column\": \"Renovation\",\n      \"properties\": {\n        \"dtype\": \"category\",\n        \"num_unique_values\": 1,\n        \"samples\": [\n          \"Not yet\"\n        ],\n        \"semantic_type\": \"\",\n        \"description\": \"\"\n      }\n    }\n  ]\n}"
            }
          },
          "metadata": {},
          "execution_count": 166
        }
      ],
      "source": [
        "df.shape\n",
        "df.head()"
      ]
    },
    {
      "cell_type": "markdown",
      "id": "91368828",
      "metadata": {
        "id": "91368828"
      },
      "source": [
        "<hr>"
      ]
    },
    {
      "cell_type": "markdown",
      "id": "ff9b8728",
      "metadata": {
        "id": "ff9b8728"
      },
      "source": [
        "## 2 - Remove Unnecessary Columns"
      ]
    },
    {
      "cell_type": "markdown",
      "id": "dc209517",
      "metadata": {
        "id": "dc209517"
      },
      "source": [
        "Among all columns, we don’t need some of them. So we drop them from dimension."
      ]
    },
    {
      "cell_type": "code",
      "execution_count": 116,
      "id": "6882ba67",
      "metadata": {
        "id": "6882ba67"
      },
      "outputs": [],
      "source": [
        "df = df.drop(['MunicipalityCode', 'Prefecture', 'Region', 'DistrictName', 'NearestStation','MinTimeToNearestStation', 'MaxTimeToNearestStation',\n",
        "              'AreaIsGreaterFlag', 'FrontageIsGreaterFlag', 'TotalFloorArea',\n",
        "              'TotalFloorAreaIsGreaterFlag', 'PrewarBuilding', 'Purpose', 'Classification', 'Breadth',\n",
        "              'CityPlanning', 'CoverageRatio', 'FloorAreaRatio', 'Period', 'Year','Quarter','Remarks'] , axis = 1)"
      ]
    },
    {
      "cell_type": "code",
      "execution_count": 164,
      "id": "1c11c52f",
      "metadata": {
        "scrolled": true,
        "colab": {
          "base_uri": "https://localhost:8080/",
          "height": 206
        },
        "id": "1c11c52f",
        "outputId": "76c62c8a-1b80-443e-fc0d-a3f042e518c8"
      },
      "outputs": [
        {
          "output_type": "execute_result",
          "data": {
            "text/plain": [
              "                                  Type  Municipality  NearStation      Price  \\\n",
              "0  Residential Land(Land and Building)  Chiyoda Ward          2.0  400000000   \n",
              "1  Residential Land(Land and Building)  Chiyoda Ward          1.0  180000000   \n",
              "2  Residential Land(Land and Building)  Chiyoda Ward          4.0  120000000   \n",
              "3  Residential Land(Land and Building)  Chiyoda Ward          3.0  250000000   \n",
              "4  Residential Land(Land and Building)  Chiyoda Ward          3.0  240000000   \n",
              "\n",
              "  FloorPlan  Area                LandShape  Frontage  BuildingYear Structure  \\\n",
              "0        1K   110       Trapezoidal Shaped       9.0        2018.0         S   \n",
              "1        1K    50       Rectangular Shaped       5.2        1976.0        RC   \n",
              "2        1K    65  Semi-rectangular Shaped       6.5        1970.0         S   \n",
              "3        1K    80  Semi-trapezoidal Shaped       6.8        1986.0        RC   \n",
              "4        1K    80  Semi-trapezoidal Shaped       6.8        1986.0        RC   \n",
              "\n",
              "               Use  Direction Renovation  \n",
              "0           Office  Northwest    Not yet  \n",
              "1  Housing Complex  Southwest    Not yet  \n",
              "2            House      South    Not yet  \n",
              "3            House  Southwest    Not yet  \n",
              "4            House  Southwest    Not yet  "
            ],
            "text/html": [
              "\n",
              "  <div id=\"df-df42bcb8-8b8f-4bc6-b3f0-b3417055ab9b\" class=\"colab-df-container\">\n",
              "    <div>\n",
              "<style scoped>\n",
              "    .dataframe tbody tr th:only-of-type {\n",
              "        vertical-align: middle;\n",
              "    }\n",
              "\n",
              "    .dataframe tbody tr th {\n",
              "        vertical-align: top;\n",
              "    }\n",
              "\n",
              "    .dataframe thead th {\n",
              "        text-align: right;\n",
              "    }\n",
              "</style>\n",
              "<table border=\"1\" class=\"dataframe\">\n",
              "  <thead>\n",
              "    <tr style=\"text-align: right;\">\n",
              "      <th></th>\n",
              "      <th>Type</th>\n",
              "      <th>Municipality</th>\n",
              "      <th>NearStation</th>\n",
              "      <th>Price</th>\n",
              "      <th>FloorPlan</th>\n",
              "      <th>Area</th>\n",
              "      <th>LandShape</th>\n",
              "      <th>Frontage</th>\n",
              "      <th>BuildingYear</th>\n",
              "      <th>Structure</th>\n",
              "      <th>Use</th>\n",
              "      <th>Direction</th>\n",
              "      <th>Renovation</th>\n",
              "    </tr>\n",
              "  </thead>\n",
              "  <tbody>\n",
              "    <tr>\n",
              "      <th>0</th>\n",
              "      <td>Residential Land(Land and Building)</td>\n",
              "      <td>Chiyoda Ward</td>\n",
              "      <td>2.0</td>\n",
              "      <td>400000000</td>\n",
              "      <td>1K</td>\n",
              "      <td>110</td>\n",
              "      <td>Trapezoidal Shaped</td>\n",
              "      <td>9.0</td>\n",
              "      <td>2018.0</td>\n",
              "      <td>S</td>\n",
              "      <td>Office</td>\n",
              "      <td>Northwest</td>\n",
              "      <td>Not yet</td>\n",
              "    </tr>\n",
              "    <tr>\n",
              "      <th>1</th>\n",
              "      <td>Residential Land(Land and Building)</td>\n",
              "      <td>Chiyoda Ward</td>\n",
              "      <td>1.0</td>\n",
              "      <td>180000000</td>\n",
              "      <td>1K</td>\n",
              "      <td>50</td>\n",
              "      <td>Rectangular Shaped</td>\n",
              "      <td>5.2</td>\n",
              "      <td>1976.0</td>\n",
              "      <td>RC</td>\n",
              "      <td>Housing Complex</td>\n",
              "      <td>Southwest</td>\n",
              "      <td>Not yet</td>\n",
              "    </tr>\n",
              "    <tr>\n",
              "      <th>2</th>\n",
              "      <td>Residential Land(Land and Building)</td>\n",
              "      <td>Chiyoda Ward</td>\n",
              "      <td>4.0</td>\n",
              "      <td>120000000</td>\n",
              "      <td>1K</td>\n",
              "      <td>65</td>\n",
              "      <td>Semi-rectangular Shaped</td>\n",
              "      <td>6.5</td>\n",
              "      <td>1970.0</td>\n",
              "      <td>S</td>\n",
              "      <td>House</td>\n",
              "      <td>South</td>\n",
              "      <td>Not yet</td>\n",
              "    </tr>\n",
              "    <tr>\n",
              "      <th>3</th>\n",
              "      <td>Residential Land(Land and Building)</td>\n",
              "      <td>Chiyoda Ward</td>\n",
              "      <td>3.0</td>\n",
              "      <td>250000000</td>\n",
              "      <td>1K</td>\n",
              "      <td>80</td>\n",
              "      <td>Semi-trapezoidal Shaped</td>\n",
              "      <td>6.8</td>\n",
              "      <td>1986.0</td>\n",
              "      <td>RC</td>\n",
              "      <td>House</td>\n",
              "      <td>Southwest</td>\n",
              "      <td>Not yet</td>\n",
              "    </tr>\n",
              "    <tr>\n",
              "      <th>4</th>\n",
              "      <td>Residential Land(Land and Building)</td>\n",
              "      <td>Chiyoda Ward</td>\n",
              "      <td>3.0</td>\n",
              "      <td>240000000</td>\n",
              "      <td>1K</td>\n",
              "      <td>80</td>\n",
              "      <td>Semi-trapezoidal Shaped</td>\n",
              "      <td>6.8</td>\n",
              "      <td>1986.0</td>\n",
              "      <td>RC</td>\n",
              "      <td>House</td>\n",
              "      <td>Southwest</td>\n",
              "      <td>Not yet</td>\n",
              "    </tr>\n",
              "  </tbody>\n",
              "</table>\n",
              "</div>\n",
              "    <div class=\"colab-df-buttons\">\n",
              "\n",
              "  <div class=\"colab-df-container\">\n",
              "    <button class=\"colab-df-convert\" onclick=\"convertToInteractive('df-df42bcb8-8b8f-4bc6-b3f0-b3417055ab9b')\"\n",
              "            title=\"Convert this dataframe to an interactive table.\"\n",
              "            style=\"display:none;\">\n",
              "\n",
              "  <svg xmlns=\"http://www.w3.org/2000/svg\" height=\"24px\" viewBox=\"0 -960 960 960\">\n",
              "    <path d=\"M120-120v-720h720v720H120Zm60-500h600v-160H180v160Zm220 220h160v-160H400v160Zm0 220h160v-160H400v160ZM180-400h160v-160H180v160Zm440 0h160v-160H620v160ZM180-180h160v-160H180v160Zm440 0h160v-160H620v160Z\"/>\n",
              "  </svg>\n",
              "    </button>\n",
              "\n",
              "  <style>\n",
              "    .colab-df-container {\n",
              "      display:flex;\n",
              "      gap: 12px;\n",
              "    }\n",
              "\n",
              "    .colab-df-convert {\n",
              "      background-color: #E8F0FE;\n",
              "      border: none;\n",
              "      border-radius: 50%;\n",
              "      cursor: pointer;\n",
              "      display: none;\n",
              "      fill: #1967D2;\n",
              "      height: 32px;\n",
              "      padding: 0 0 0 0;\n",
              "      width: 32px;\n",
              "    }\n",
              "\n",
              "    .colab-df-convert:hover {\n",
              "      background-color: #E2EBFA;\n",
              "      box-shadow: 0px 1px 2px rgba(60, 64, 67, 0.3), 0px 1px 3px 1px rgba(60, 64, 67, 0.15);\n",
              "      fill: #174EA6;\n",
              "    }\n",
              "\n",
              "    .colab-df-buttons div {\n",
              "      margin-bottom: 4px;\n",
              "    }\n",
              "\n",
              "    [theme=dark] .colab-df-convert {\n",
              "      background-color: #3B4455;\n",
              "      fill: #D2E3FC;\n",
              "    }\n",
              "\n",
              "    [theme=dark] .colab-df-convert:hover {\n",
              "      background-color: #434B5C;\n",
              "      box-shadow: 0px 1px 3px 1px rgba(0, 0, 0, 0.15);\n",
              "      filter: drop-shadow(0px 1px 2px rgba(0, 0, 0, 0.3));\n",
              "      fill: #FFFFFF;\n",
              "    }\n",
              "  </style>\n",
              "\n",
              "    <script>\n",
              "      const buttonEl =\n",
              "        document.querySelector('#df-df42bcb8-8b8f-4bc6-b3f0-b3417055ab9b button.colab-df-convert');\n",
              "      buttonEl.style.display =\n",
              "        google.colab.kernel.accessAllowed ? 'block' : 'none';\n",
              "\n",
              "      async function convertToInteractive(key) {\n",
              "        const element = document.querySelector('#df-df42bcb8-8b8f-4bc6-b3f0-b3417055ab9b');\n",
              "        const dataTable =\n",
              "          await google.colab.kernel.invokeFunction('convertToInteractive',\n",
              "                                                    [key], {});\n",
              "        if (!dataTable) return;\n",
              "\n",
              "        const docLinkHtml = 'Like what you see? Visit the ' +\n",
              "          '<a target=\"_blank\" href=https://colab.research.google.com/notebooks/data_table.ipynb>data table notebook</a>'\n",
              "          + ' to learn more about interactive tables.';\n",
              "        element.innerHTML = '';\n",
              "        dataTable['output_type'] = 'display_data';\n",
              "        await google.colab.output.renderOutput(dataTable, element);\n",
              "        const docLink = document.createElement('div');\n",
              "        docLink.innerHTML = docLinkHtml;\n",
              "        element.appendChild(docLink);\n",
              "      }\n",
              "    </script>\n",
              "  </div>\n",
              "\n",
              "\n",
              "    <div id=\"df-7b1d9bb7-b263-4c4a-b5fc-53d79d6fa8ed\">\n",
              "      <button class=\"colab-df-quickchart\" onclick=\"quickchart('df-7b1d9bb7-b263-4c4a-b5fc-53d79d6fa8ed')\"\n",
              "                title=\"Suggest charts\"\n",
              "                style=\"display:none;\">\n",
              "\n",
              "<svg xmlns=\"http://www.w3.org/2000/svg\" height=\"24px\"viewBox=\"0 0 24 24\"\n",
              "     width=\"24px\">\n",
              "    <g>\n",
              "        <path d=\"M19 3H5c-1.1 0-2 .9-2 2v14c0 1.1.9 2 2 2h14c1.1 0 2-.9 2-2V5c0-1.1-.9-2-2-2zM9 17H7v-7h2v7zm4 0h-2V7h2v10zm4 0h-2v-4h2v4z\"/>\n",
              "    </g>\n",
              "</svg>\n",
              "      </button>\n",
              "\n",
              "<style>\n",
              "  .colab-df-quickchart {\n",
              "      --bg-color: #E8F0FE;\n",
              "      --fill-color: #1967D2;\n",
              "      --hover-bg-color: #E2EBFA;\n",
              "      --hover-fill-color: #174EA6;\n",
              "      --disabled-fill-color: #AAA;\n",
              "      --disabled-bg-color: #DDD;\n",
              "  }\n",
              "\n",
              "  [theme=dark] .colab-df-quickchart {\n",
              "      --bg-color: #3B4455;\n",
              "      --fill-color: #D2E3FC;\n",
              "      --hover-bg-color: #434B5C;\n",
              "      --hover-fill-color: #FFFFFF;\n",
              "      --disabled-bg-color: #3B4455;\n",
              "      --disabled-fill-color: #666;\n",
              "  }\n",
              "\n",
              "  .colab-df-quickchart {\n",
              "    background-color: var(--bg-color);\n",
              "    border: none;\n",
              "    border-radius: 50%;\n",
              "    cursor: pointer;\n",
              "    display: none;\n",
              "    fill: var(--fill-color);\n",
              "    height: 32px;\n",
              "    padding: 0;\n",
              "    width: 32px;\n",
              "  }\n",
              "\n",
              "  .colab-df-quickchart:hover {\n",
              "    background-color: var(--hover-bg-color);\n",
              "    box-shadow: 0 1px 2px rgba(60, 64, 67, 0.3), 0 1px 3px 1px rgba(60, 64, 67, 0.15);\n",
              "    fill: var(--button-hover-fill-color);\n",
              "  }\n",
              "\n",
              "  .colab-df-quickchart-complete:disabled,\n",
              "  .colab-df-quickchart-complete:disabled:hover {\n",
              "    background-color: var(--disabled-bg-color);\n",
              "    fill: var(--disabled-fill-color);\n",
              "    box-shadow: none;\n",
              "  }\n",
              "\n",
              "  .colab-df-spinner {\n",
              "    border: 2px solid var(--fill-color);\n",
              "    border-color: transparent;\n",
              "    border-bottom-color: var(--fill-color);\n",
              "    animation:\n",
              "      spin 1s steps(1) infinite;\n",
              "  }\n",
              "\n",
              "  @keyframes spin {\n",
              "    0% {\n",
              "      border-color: transparent;\n",
              "      border-bottom-color: var(--fill-color);\n",
              "      border-left-color: var(--fill-color);\n",
              "    }\n",
              "    20% {\n",
              "      border-color: transparent;\n",
              "      border-left-color: var(--fill-color);\n",
              "      border-top-color: var(--fill-color);\n",
              "    }\n",
              "    30% {\n",
              "      border-color: transparent;\n",
              "      border-left-color: var(--fill-color);\n",
              "      border-top-color: var(--fill-color);\n",
              "      border-right-color: var(--fill-color);\n",
              "    }\n",
              "    40% {\n",
              "      border-color: transparent;\n",
              "      border-right-color: var(--fill-color);\n",
              "      border-top-color: var(--fill-color);\n",
              "    }\n",
              "    60% {\n",
              "      border-color: transparent;\n",
              "      border-right-color: var(--fill-color);\n",
              "    }\n",
              "    80% {\n",
              "      border-color: transparent;\n",
              "      border-right-color: var(--fill-color);\n",
              "      border-bottom-color: var(--fill-color);\n",
              "    }\n",
              "    90% {\n",
              "      border-color: transparent;\n",
              "      border-bottom-color: var(--fill-color);\n",
              "    }\n",
              "  }\n",
              "</style>\n",
              "\n",
              "      <script>\n",
              "        async function quickchart(key) {\n",
              "          const quickchartButtonEl =\n",
              "            document.querySelector('#' + key + ' button');\n",
              "          quickchartButtonEl.disabled = true;  // To prevent multiple clicks.\n",
              "          quickchartButtonEl.classList.add('colab-df-spinner');\n",
              "          try {\n",
              "            const charts = await google.colab.kernel.invokeFunction(\n",
              "                'suggestCharts', [key], {});\n",
              "          } catch (error) {\n",
              "            console.error('Error during call to suggestCharts:', error);\n",
              "          }\n",
              "          quickchartButtonEl.classList.remove('colab-df-spinner');\n",
              "          quickchartButtonEl.classList.add('colab-df-quickchart-complete');\n",
              "        }\n",
              "        (() => {\n",
              "          let quickchartButtonEl =\n",
              "            document.querySelector('#df-7b1d9bb7-b263-4c4a-b5fc-53d79d6fa8ed button');\n",
              "          quickchartButtonEl.style.display =\n",
              "            google.colab.kernel.accessAllowed ? 'block' : 'none';\n",
              "        })();\n",
              "      </script>\n",
              "    </div>\n",
              "\n",
              "    </div>\n",
              "  </div>\n"
            ],
            "application/vnd.google.colaboratory.intrinsic+json": {
              "type": "dataframe",
              "variable_name": "df",
              "summary": "{\n  \"name\": \"df\",\n  \"rows\": 2761,\n  \"fields\": [\n    {\n      \"column\": \"Type\",\n      \"properties\": {\n        \"dtype\": \"category\",\n        \"num_unique_values\": 1,\n        \"samples\": [\n          \"Residential Land(Land and Building)\"\n        ],\n        \"semantic_type\": \"\",\n        \"description\": \"\"\n      }\n    },\n    {\n      \"column\": \"Municipality\",\n      \"properties\": {\n        \"dtype\": \"category\",\n        \"num_unique_values\": 5,\n        \"samples\": [\n          \"Chuo Ward\"\n        ],\n        \"semantic_type\": \"\",\n        \"description\": \"\"\n      }\n    },\n    {\n      \"column\": \"NearStation\",\n      \"properties\": {\n        \"dtype\": \"number\",\n        \"std\": 2.584476557804077,\n        \"min\": 0.0,\n        \"max\": 16.0,\n        \"num_unique_values\": 17,\n        \"samples\": [\n          2.0\n        ],\n        \"semantic_type\": \"\",\n        \"description\": \"\"\n      }\n    },\n    {\n      \"column\": \"Price\",\n      \"properties\": {\n        \"dtype\": \"number\",\n        \"std\": 1623304366,\n        \"min\": 520000,\n        \"max\": 61000000000,\n        \"num_unique_values\": 249,\n        \"samples\": [\n          22000000\n        ],\n        \"semantic_type\": \"\",\n        \"description\": \"\"\n      }\n    },\n    {\n      \"column\": \"FloorPlan\",\n      \"properties\": {\n        \"dtype\": \"category\",\n        \"num_unique_values\": 1,\n        \"samples\": [\n          \"1K\"\n        ],\n        \"semantic_type\": \"\",\n        \"description\": \"\"\n      }\n    },\n    {\n      \"column\": \"Area\",\n      \"properties\": {\n        \"dtype\": \"number\",\n        \"std\": 215,\n        \"min\": 30,\n        \"max\": 2000,\n        \"num_unique_values\": 113,\n        \"samples\": [\n          430\n        ],\n        \"semantic_type\": \"\",\n        \"description\": \"\"\n      }\n    },\n    {\n      \"column\": \"LandShape\",\n      \"properties\": {\n        \"dtype\": \"category\",\n        \"num_unique_values\": 10,\n        \"samples\": [\n          \"Square Shaped\"\n        ],\n        \"semantic_type\": \"\",\n        \"description\": \"\"\n      }\n    },\n    {\n      \"column\": \"Frontage\",\n      \"properties\": {\n        \"dtype\": \"number\",\n        \"std\": 6.255040057595594,\n        \"min\": 1.0,\n        \"max\": 50.0,\n        \"num_unique_values\": 235,\n        \"samples\": [\n          10.6\n        ],\n        \"semantic_type\": \"\",\n        \"description\": \"\"\n      }\n    },\n    {\n      \"column\": \"BuildingYear\",\n      \"properties\": {\n        \"dtype\": \"number\",\n        \"std\": 17.1821174012828,\n        \"min\": 1945.0,\n        \"max\": 2020.0,\n        \"num_unique_values\": 75,\n        \"samples\": [\n          1982.0\n        ],\n        \"semantic_type\": \"\",\n        \"description\": \"\"\n      }\n    },\n    {\n      \"column\": \"Structure\",\n      \"properties\": {\n        \"dtype\": \"category\",\n        \"num_unique_values\": 6,\n        \"samples\": [\n          \"S\"\n        ],\n        \"semantic_type\": \"\",\n        \"description\": \"\"\n      }\n    },\n    {\n      \"column\": \"Use\",\n      \"properties\": {\n        \"dtype\": \"category\",\n        \"num_unique_values\": 9,\n        \"samples\": [\n          \"Workshop\"\n        ],\n        \"semantic_type\": \"\",\n        \"description\": \"\"\n      }\n    },\n    {\n      \"column\": \"Direction\",\n      \"properties\": {\n        \"dtype\": \"category\",\n        \"num_unique_values\": 9,\n        \"samples\": [\n          \"North\"\n        ],\n        \"semantic_type\": \"\",\n        \"description\": \"\"\n      }\n    },\n    {\n      \"column\": \"Renovation\",\n      \"properties\": {\n        \"dtype\": \"category\",\n        \"num_unique_values\": 1,\n        \"samples\": [\n          \"Not yet\"\n        ],\n        \"semantic_type\": \"\",\n        \"description\": \"\"\n      }\n    }\n  ]\n}"
            }
          },
          "metadata": {},
          "execution_count": 164
        }
      ],
      "source": [
        "df.head()"
      ]
    },
    {
      "cell_type": "markdown",
      "id": "299d46d2",
      "metadata": {
        "id": "299d46d2"
      },
      "source": [
        "<hr>"
      ]
    },
    {
      "cell_type": "markdown",
      "id": "3bcd27d3",
      "metadata": {
        "id": "3bcd27d3"
      },
      "source": [
        "## 3 - Change Column’s Name"
      ]
    },
    {
      "cell_type": "markdown",
      "id": "026432b6",
      "metadata": {
        "id": "026432b6"
      },
      "source": [
        "I change the name of the column based on the following:\n",
        "* TimeToNearestStation: NearStation\n",
        "* TradePrice: Price"
      ]
    },
    {
      "cell_type": "code",
      "execution_count": 118,
      "id": "97355be5",
      "metadata": {
        "colab": {
          "base_uri": "https://localhost:8080/"
        },
        "id": "97355be5",
        "outputId": "d6b657a7-b8c3-422d-f806-382795490a6e"
      },
      "outputs": [
        {
          "output_type": "stream",
          "name": "stdout",
          "text": [
            "Index(['Type', 'Municipality', 'NearStation', 'Price', 'FloorPlan', 'Area',\n",
            "       'LandShape', 'Frontage', 'BuildingYear', 'Structure', 'Use',\n",
            "       'Direction', 'Renovation'],\n",
            "      dtype='object')\n"
          ]
        }
      ],
      "source": [
        "col_name = ['Type', 'Municipality','NearStation',\n",
        "       'Price', 'FloorPlan', 'Area', 'LandShape', 'Frontage',\n",
        "       'BuildingYear', 'Structure', 'Use', 'Direction', 'Renovation']\n",
        "\n",
        "df.columns = col_name\n",
        "\n",
        "print(df.columns)"
      ]
    },
    {
      "cell_type": "markdown",
      "id": "e61d9f0b",
      "metadata": {
        "id": "e61d9f0b"
      },
      "source": [
        "<hr>"
      ]
    },
    {
      "cell_type": "markdown",
      "id": "e15f54d1",
      "metadata": {
        "id": "e15f54d1"
      },
      "source": [
        "## 4 - Handle Missing Values"
      ]
    },
    {
      "cell_type": "markdown",
      "id": "2dca775d",
      "metadata": {
        "id": "2dca775d"
      },
      "source": [
        "I create a for loop to iterate among all columns to realize whether they have null values or not. I’m looking for the number of null values in every single column as well as the percentage of null values."
      ]
    },
    {
      "cell_type": "code",
      "execution_count": 119,
      "id": "a2672ae9",
      "metadata": {
        "colab": {
          "base_uri": "https://localhost:8080/"
        },
        "id": "a2672ae9",
        "outputId": "5c0e9bb6-6c60-48d4-fce0-b423e88542da"
      },
      "outputs": [
        {
          "output_type": "stream",
          "name": "stdout",
          "text": [
            "Type - 0 - %0.0\n",
            "Municipality - 0 - %0.0\n",
            "NearStation - 137 - %0.685\n",
            "Price - 0 - %0.0\n",
            "FloorPlan - 3153 - %15.765\n",
            "Area - 0 - %0.0\n",
            "LandShape - 16848 - %84.24\n",
            "Frontage - 17053 - %85.265\n",
            "BuildingYear - 710 - %3.55\n",
            "Structure - 488 - %2.44\n",
            "Use - 2208 - %11.04\n",
            "Direction - 16847 - %84.235\n",
            "Renovation - 4917 - %24.585\n"
          ]
        }
      ],
      "source": [
        "for col in df.columns:\n",
        "    number_null = df.loc[: , col].isnull().sum()\n",
        "    perc_null = (number_null / df.shape[0]) * 100\n",
        "    print('{} - {} - %{}'.format(col, number_null, round(perc_null,3)))"
      ]
    },
    {
      "cell_type": "markdown",
      "id": "eb3f3f0e",
      "metadata": {
        "id": "eb3f3f0e"
      },
      "source": [
        "The result shows we must have a different approach to handling null values. Since I have a large dataset:\n",
        "<br><br>\n",
        "Categorical:\n",
        "* less than 5%, I drop the rows.\n",
        "* between 5% and 30%, I impute with mode.\n",
        "* More than 30%, create a new label as “Other.”\n",
        "<br><br>\n",
        "\n",
        "Numerical:\n",
        "* between 0% and 30%, I impute with mean or median.\n",
        "* More than 30%, I drop the rows.\n",
        "\n",
        "<br>\n",
        "However, the best way is consulting with expert domain."
      ]
    },
    {
      "cell_type": "markdown",
      "id": "e0bb5cab",
      "metadata": {
        "id": "e0bb5cab"
      },
      "source": [
        "<hr>"
      ]
    },
    {
      "cell_type": "markdown",
      "id": "dd11a0e8",
      "metadata": {
        "id": "dd11a0e8"
      },
      "source": [
        "Let’s begin with categorical variables. First, I impute “Renovation”, “FloorPlan” and \"Use\" with mode."
      ]
    },
    {
      "cell_type": "code",
      "execution_count": 120,
      "id": "a9b43f26",
      "metadata": {
        "colab": {
          "base_uri": "https://localhost:8080/"
        },
        "id": "a9b43f26",
        "outputId": "70b59101-7f29-4d08-b1ad-b45e0993861c"
      },
      "outputs": [
        {
          "output_type": "stream",
          "name": "stdout",
          "text": [
            "Not yet\n",
            "House\n",
            "1K\n"
          ]
        }
      ],
      "source": [
        "mode_Renovation = df['Renovation'].mode()[0]\n",
        "mode_Use = df['Use'].mode()[0]\n",
        "mode_FloorPlan = df['FloorPlan'].mode()[0]\n",
        "\n",
        "print(mode_Renovation)\n",
        "print(mode_Use)\n",
        "print(mode_FloorPlan)"
      ]
    },
    {
      "cell_type": "code",
      "execution_count": 121,
      "id": "84cd01c5",
      "metadata": {
        "id": "84cd01c5"
      },
      "outputs": [],
      "source": [
        "df['Renovation'] = df['Renovation'].fillna('Not yet')\n",
        "df['Use'] = df['Use'].fillna('House')\n",
        "df['FloorPlan'] = df['FloorPlan'].fillna('1K')"
      ]
    },
    {
      "cell_type": "markdown",
      "id": "13c5679e",
      "metadata": {
        "id": "13c5679e"
      },
      "source": [
        "Then, I created a new label for missing values in “LandShape”, “Direction”."
      ]
    },
    {
      "cell_type": "code",
      "execution_count": 122,
      "id": "9277fe8e",
      "metadata": {
        "id": "9277fe8e"
      },
      "outputs": [],
      "source": [
        "df['LandShape'] = df['LandShape'].fillna('Other LandShape')\n",
        "df['Direction'] = df['Direction'].fillna('Other Direction')"
      ]
    },
    {
      "cell_type": "markdown",
      "id": "3e396037",
      "metadata": {
        "id": "3e396037"
      },
      "source": [
        "Finally, I drop “structure” null value."
      ]
    },
    {
      "cell_type": "code",
      "execution_count": 123,
      "id": "65f2adae",
      "metadata": {
        "id": "65f2adae"
      },
      "outputs": [],
      "source": [
        "df = df.dropna(subset = ['Structure'])"
      ]
    },
    {
      "cell_type": "markdown",
      "id": "6c8c01b5",
      "metadata": {
        "id": "6c8c01b5"
      },
      "source": [
        "<hr>"
      ]
    },
    {
      "cell_type": "markdown",
      "id": "ded62f00",
      "metadata": {
        "id": "ded62f00"
      },
      "source": [
        "And now, I work on numerical variables. First, I impute “NearStation” and “year. But before doing this, I must make sure about distribution shape of these columns to see whether they are right-skewed or left-skewed. It can be helpful when I want to decide choosing mean or median for imputing. Also, I should check the data type of theses variables to be sure about their numerical type."
      ]
    },
    {
      "cell_type": "code",
      "execution_count": 124,
      "id": "a3c4a076",
      "metadata": {
        "colab": {
          "base_uri": "https://localhost:8080/"
        },
        "id": "a3c4a076",
        "outputId": "5f3de71c-272b-4e53-bad3-f7524f053359"
      },
      "outputs": [
        {
          "output_type": "stream",
          "name": "stdout",
          "text": [
            "object\n",
            "float64\n"
          ]
        }
      ],
      "source": [
        "print(df['NearStation'].dtypes)\n",
        "print(df['BuildingYear'].dtypes)"
      ]
    },
    {
      "cell_type": "markdown",
      "id": "eab2563e",
      "metadata": {
        "id": "eab2563e"
      },
      "source": [
        "\"NearStation\" is object and it means there are some values in this column that are not number. First, we should handle this issue. So, I check the unique values:"
      ]
    },
    {
      "cell_type": "code",
      "execution_count": 125,
      "id": "7a5e9116",
      "metadata": {
        "colab": {
          "base_uri": "https://localhost:8080/"
        },
        "id": "7a5e9116",
        "outputId": "1aa857df-de67-487e-ffee-9d3c5ed76a3b"
      },
      "outputs": [
        {
          "output_type": "execute_result",
          "data": {
            "text/plain": [
              "array(['4', '2', '1', nan, '3', '5', '6', '0', '7', '11', '10', '8', '9',\n",
              "       '12', '30-60minutes', '13', '14', '16', '15', '19', '18', '21',\n",
              "       '2H-', '17'], dtype=object)"
            ]
          },
          "metadata": {},
          "execution_count": 125
        }
      ],
      "source": [
        "df['NearStation'].unique()"
      ]
    },
    {
      "cell_type": "markdown",
      "id": "173fb0f7",
      "metadata": {
        "id": "173fb0f7"
      },
      "source": [
        "As we can see, there are some values that are not number, and they are range. So, I ignore those kinds of values from model."
      ]
    },
    {
      "cell_type": "code",
      "execution_count": 126,
      "id": "a2a801fa",
      "metadata": {
        "colab": {
          "base_uri": "https://localhost:8080/"
        },
        "id": "a2a801fa",
        "outputId": "c3adccde-2598-4c52-e69c-934e8573e960"
      },
      "outputs": [
        {
          "output_type": "stream",
          "name": "stderr",
          "text": [
            "<ipython-input-126-ecfb0144ea6b>:1: SettingWithCopyWarning: \n",
            "A value is trying to be set on a copy of a slice from a DataFrame.\n",
            "Try using .loc[row_indexer,col_indexer] = value instead\n",
            "\n",
            "See the caveats in the documentation: https://pandas.pydata.org/pandas-docs/stable/user_guide/indexing.html#returning-a-view-versus-a-copy\n",
            "  df['NearStation'] = pd.to_numeric(df['NearStation'], errors='coerce')\n"
          ]
        }
      ],
      "source": [
        "df['NearStation'] = pd.to_numeric(df['NearStation'], errors='coerce')"
      ]
    },
    {
      "cell_type": "code",
      "execution_count": 127,
      "id": "e7bbb3a9",
      "metadata": {
        "colab": {
          "base_uri": "https://localhost:8080/"
        },
        "id": "e7bbb3a9",
        "outputId": "43b39001-7a19-4600-ba5f-2ab35676c042"
      },
      "outputs": [
        {
          "output_type": "execute_result",
          "data": {
            "text/plain": [
              "array([ 4.,  2.,  1., nan,  3.,  5.,  6.,  0.,  7., 11., 10.,  8.,  9.,\n",
              "       12., 13., 14., 16., 15., 19., 18., 21., 17.])"
            ]
          },
          "metadata": {},
          "execution_count": 127
        }
      ],
      "source": [
        "df['NearStation'].unique()"
      ]
    },
    {
      "cell_type": "markdown",
      "id": "4d4067b8",
      "metadata": {
        "id": "4d4067b8"
      },
      "source": [
        "Now we can see its distribution."
      ]
    },
    {
      "cell_type": "code",
      "execution_count": 128,
      "id": "5d36a062",
      "metadata": {
        "colab": {
          "base_uri": "https://localhost:8080/"
        },
        "id": "5d36a062",
        "outputId": "25ef414e-d4a5-4327-fbc1-d0e4b1ed2063"
      },
      "outputs": [
        {
          "output_type": "stream",
          "name": "stdout",
          "text": [
            "Skewness : 1.103\n",
            "Mean is bigger than Median. Left Skewed. Median for imputing\n"
          ]
        }
      ],
      "source": [
        "print('Skewness :' , round(df['NearStation'].skew() ,3))\n",
        "\n",
        "mean_NearStation = df['NearStation'].mean()\n",
        "median_NearStation = df['NearStation'].median()\n",
        "\n",
        "if mean_NearStation > median_NearStation:\n",
        "    print('Mean is bigger than Median. Left Skewed. Median for imputing')\n",
        "else:\n",
        "    print('Mean is smaller than Median. Right Skewed. Mean for imputing')"
      ]
    },
    {
      "cell_type": "markdown",
      "id": "4d32e87f",
      "metadata": {
        "id": "4d32e87f"
      },
      "source": [
        "The result shows that I should choose median for imputing."
      ]
    },
    {
      "cell_type": "code",
      "execution_count": 129,
      "id": "dde13850",
      "metadata": {
        "colab": {
          "base_uri": "https://localhost:8080/"
        },
        "id": "dde13850",
        "outputId": "2d1cac18-4896-419e-a838-015f54979340"
      },
      "outputs": [
        {
          "output_type": "stream",
          "name": "stderr",
          "text": [
            "<ipython-input-129-089fe436cbce>:1: SettingWithCopyWarning: \n",
            "A value is trying to be set on a copy of a slice from a DataFrame.\n",
            "Try using .loc[row_indexer,col_indexer] = value instead\n",
            "\n",
            "See the caveats in the documentation: https://pandas.pydata.org/pandas-docs/stable/user_guide/indexing.html#returning-a-view-versus-a-copy\n",
            "  df['NearStation'] = df['NearStation'].fillna(median_NearStation).round(0)\n"
          ]
        }
      ],
      "source": [
        "df['NearStation'] = df['NearStation'].fillna(median_NearStation).round(0)"
      ]
    },
    {
      "cell_type": "markdown",
      "id": "6b665c02",
      "metadata": {
        "id": "6b665c02"
      },
      "source": [
        "In the next, I drop null values for “Frontage”."
      ]
    },
    {
      "cell_type": "code",
      "execution_count": 130,
      "id": "70a5b4d1",
      "metadata": {
        "id": "70a5b4d1"
      },
      "outputs": [],
      "source": [
        "df = df.dropna(subset = ['Frontage'])"
      ]
    },
    {
      "cell_type": "markdown",
      "id": "9348a1f1",
      "metadata": {
        "id": "9348a1f1"
      },
      "source": [
        "run the same process for \"BulidingYear\"."
      ]
    },
    {
      "cell_type": "code",
      "execution_count": 131,
      "id": "db15e222",
      "metadata": {
        "colab": {
          "base_uri": "https://localhost:8080/"
        },
        "id": "db15e222",
        "outputId": "5792b765-ce86-424e-b3b3-cc34099e8ed0"
      },
      "outputs": [
        {
          "output_type": "stream",
          "name": "stdout",
          "text": [
            "Skewness : 0.098\n",
            "Mean is smaller than Median. Right Skewed. Mean for imputing\n"
          ]
        }
      ],
      "source": [
        "print('Skewness :' , round(df['BuildingYear'].skew() ,3))\n",
        "\n",
        "mean_BuildingYear = df['BuildingYear'].mean()\n",
        "median_BuildingYear = df['BuildingYear'].median()\n",
        "\n",
        "if mean_BuildingYear > median_BuildingYear:\n",
        "    print('Mean is bigger than Median. Left Skewed. Median for imputing')\n",
        "else:\n",
        "    print('Mean is smaller than Median. Right Skewed. Mean for imputing')"
      ]
    },
    {
      "cell_type": "markdown",
      "id": "a63ab438",
      "metadata": {
        "id": "a63ab438"
      },
      "source": [
        "The result shows that I should choose mean for imputing."
      ]
    },
    {
      "cell_type": "code",
      "execution_count": 132,
      "id": "95938020",
      "metadata": {
        "id": "95938020"
      },
      "outputs": [],
      "source": [
        "df['BuildingYear'] = df['BuildingYear'].fillna(mean_BuildingYear).round(0)"
      ]
    },
    {
      "cell_type": "markdown",
      "id": "69c7ab9d",
      "metadata": {
        "id": "69c7ab9d"
      },
      "source": [
        "Finally, we check the null values for dataset again."
      ]
    },
    {
      "cell_type": "code",
      "execution_count": 133,
      "id": "390bc4c2",
      "metadata": {
        "colab": {
          "base_uri": "https://localhost:8080/"
        },
        "id": "390bc4c2",
        "outputId": "a942a31d-5bc6-4551-b5b1-35c00ab2376c"
      },
      "outputs": [
        {
          "output_type": "stream",
          "name": "stdout",
          "text": [
            "Type - 0 - %0.0\n",
            "Municipality - 0 - %0.0\n",
            "NearStation - 0 - %0.0\n",
            "Price - 0 - %0.0\n",
            "FloorPlan - 0 - %0.0\n",
            "Area - 0 - %0.0\n",
            "LandShape - 0 - %0.0\n",
            "Frontage - 0 - %0.0\n",
            "BuildingYear - 0 - %0.0\n",
            "Structure - 0 - %0.0\n",
            "Use - 0 - %0.0\n",
            "Direction - 0 - %0.0\n",
            "Renovation - 0 - %0.0\n"
          ]
        }
      ],
      "source": [
        "for col in df.columns:\n",
        "    number_null = df.loc[: , col].isnull().sum()\n",
        "    perc_null = (number_null / df.shape[0]) * 100\n",
        "    print('{} - {} - %{}'.format(col, number_null, round(perc_null,3)))"
      ]
    },
    {
      "cell_type": "markdown",
      "id": "4c5a0f41",
      "metadata": {
        "id": "4c5a0f41"
      },
      "source": [
        "<hr>"
      ]
    },
    {
      "cell_type": "markdown",
      "id": "96966560",
      "metadata": {
        "id": "96966560"
      },
      "source": [
        "## 5 - Handle Duplicate Rows"
      ]
    },
    {
      "cell_type": "markdown",
      "id": "8e65fbba",
      "metadata": {
        "id": "8e65fbba"
      },
      "source": [
        "Now we should handle duplicate rows. Since all values might be same, we just we need to check whether there are two rows that all values in all columns are the same or not."
      ]
    },
    {
      "cell_type": "code",
      "execution_count": 134,
      "id": "280b5085",
      "metadata": {
        "colab": {
          "base_uri": "https://localhost:8080/"
        },
        "id": "280b5085",
        "outputId": "7eae167a-5282-4fc5-f761-eb50c4102964"
      },
      "outputs": [
        {
          "output_type": "stream",
          "name": "stdout",
          "text": [
            "The DataFrame has duplicate rows.\n"
          ]
        }
      ],
      "source": [
        "duplicate_rows = df.duplicated()\n",
        "\n",
        "if duplicate_rows.any():\n",
        "    print(\"The DataFrame has duplicate rows.\")\n",
        "else:\n",
        "    print(\"The DataFrame does not have duplicate rows.\")"
      ]
    },
    {
      "cell_type": "markdown",
      "id": "c2d72791",
      "metadata": {
        "id": "c2d72791"
      },
      "source": [
        "The result shows we have duplicated rows. Now, let’s see the duplicated rows:"
      ]
    },
    {
      "cell_type": "code",
      "execution_count": 135,
      "id": "0a3ef78d",
      "metadata": {
        "colab": {
          "base_uri": "https://localhost:8080/",
          "height": 300
        },
        "id": "0a3ef78d",
        "outputId": "0b1c4a8b-4b83-4e25-e1eb-8d025abc0974"
      },
      "outputs": [
        {
          "output_type": "execute_result",
          "data": {
            "text/plain": [
              "                                      Type   Municipality  NearStation  \\\n",
              "4986   Residential Land(Land and Building)      Chuo Ward          2.0   \n",
              "4994   Residential Land(Land and Building)      Chuo Ward          2.0   \n",
              "9353   Residential Land(Land and Building)    Minato Ward          1.0   \n",
              "9354   Residential Land(Land and Building)    Minato Ward          1.0   \n",
              "14686  Residential Land(Land and Building)  Shinjuku Ward          5.0   \n",
              "14690  Residential Land(Land and Building)  Shinjuku Ward          5.0   \n",
              "18342  Residential Land(Land and Building)  Shinjuku Ward          4.0   \n",
              "18343  Residential Land(Land and Building)  Shinjuku Ward          4.0   \n",
              "\n",
              "           Price FloorPlan  Area                LandShape  Frontage  \\\n",
              "4986   230000000        1K    80       Rectangular Shaped       7.0   \n",
              "4994   230000000        1K    80       Rectangular Shaped       7.0   \n",
              "9353   360000000        1K   160       Rectangular Shaped       8.9   \n",
              "9354   360000000        1K   160       Rectangular Shaped       8.9   \n",
              "14686   59000000        1K    50       Rectangular Shaped       7.2   \n",
              "14690   59000000        1K    50       Rectangular Shaped       7.2   \n",
              "18342  400000000        1K   145  Semi-rectangular Shaped       9.5   \n",
              "18343  400000000        1K   145  Semi-rectangular Shaped       9.5   \n",
              "\n",
              "       BuildingYear Structure                            Use  Direction  \\\n",
              "4986         1964.0       SRC                         Office  Northeast   \n",
              "4994         1964.0       SRC                         Office  Northeast   \n",
              "9353         1991.0        RC  Housing Complex, Office, Shop      North   \n",
              "9354         1991.0        RC  Housing Complex, Office, Shop      North   \n",
              "14686        2015.0         W                          House      North   \n",
              "14690        2015.0         W                          House      North   \n",
              "18342        2014.0        RC                Housing Complex      North   \n",
              "18343        2014.0        RC                Housing Complex      North   \n",
              "\n",
              "      Renovation  \n",
              "4986     Not yet  \n",
              "4994     Not yet  \n",
              "9353     Not yet  \n",
              "9354     Not yet  \n",
              "14686    Not yet  \n",
              "14690    Not yet  \n",
              "18342    Not yet  \n",
              "18343    Not yet  "
            ],
            "text/html": [
              "\n",
              "  <div id=\"df-652682fe-0e23-4479-a9c3-b1871564189a\" class=\"colab-df-container\">\n",
              "    <div>\n",
              "<style scoped>\n",
              "    .dataframe tbody tr th:only-of-type {\n",
              "        vertical-align: middle;\n",
              "    }\n",
              "\n",
              "    .dataframe tbody tr th {\n",
              "        vertical-align: top;\n",
              "    }\n",
              "\n",
              "    .dataframe thead th {\n",
              "        text-align: right;\n",
              "    }\n",
              "</style>\n",
              "<table border=\"1\" class=\"dataframe\">\n",
              "  <thead>\n",
              "    <tr style=\"text-align: right;\">\n",
              "      <th></th>\n",
              "      <th>Type</th>\n",
              "      <th>Municipality</th>\n",
              "      <th>NearStation</th>\n",
              "      <th>Price</th>\n",
              "      <th>FloorPlan</th>\n",
              "      <th>Area</th>\n",
              "      <th>LandShape</th>\n",
              "      <th>Frontage</th>\n",
              "      <th>BuildingYear</th>\n",
              "      <th>Structure</th>\n",
              "      <th>Use</th>\n",
              "      <th>Direction</th>\n",
              "      <th>Renovation</th>\n",
              "    </tr>\n",
              "  </thead>\n",
              "  <tbody>\n",
              "    <tr>\n",
              "      <th>4986</th>\n",
              "      <td>Residential Land(Land and Building)</td>\n",
              "      <td>Chuo Ward</td>\n",
              "      <td>2.0</td>\n",
              "      <td>230000000</td>\n",
              "      <td>1K</td>\n",
              "      <td>80</td>\n",
              "      <td>Rectangular Shaped</td>\n",
              "      <td>7.0</td>\n",
              "      <td>1964.0</td>\n",
              "      <td>SRC</td>\n",
              "      <td>Office</td>\n",
              "      <td>Northeast</td>\n",
              "      <td>Not yet</td>\n",
              "    </tr>\n",
              "    <tr>\n",
              "      <th>4994</th>\n",
              "      <td>Residential Land(Land and Building)</td>\n",
              "      <td>Chuo Ward</td>\n",
              "      <td>2.0</td>\n",
              "      <td>230000000</td>\n",
              "      <td>1K</td>\n",
              "      <td>80</td>\n",
              "      <td>Rectangular Shaped</td>\n",
              "      <td>7.0</td>\n",
              "      <td>1964.0</td>\n",
              "      <td>SRC</td>\n",
              "      <td>Office</td>\n",
              "      <td>Northeast</td>\n",
              "      <td>Not yet</td>\n",
              "    </tr>\n",
              "    <tr>\n",
              "      <th>9353</th>\n",
              "      <td>Residential Land(Land and Building)</td>\n",
              "      <td>Minato Ward</td>\n",
              "      <td>1.0</td>\n",
              "      <td>360000000</td>\n",
              "      <td>1K</td>\n",
              "      <td>160</td>\n",
              "      <td>Rectangular Shaped</td>\n",
              "      <td>8.9</td>\n",
              "      <td>1991.0</td>\n",
              "      <td>RC</td>\n",
              "      <td>Housing Complex, Office, Shop</td>\n",
              "      <td>North</td>\n",
              "      <td>Not yet</td>\n",
              "    </tr>\n",
              "    <tr>\n",
              "      <th>9354</th>\n",
              "      <td>Residential Land(Land and Building)</td>\n",
              "      <td>Minato Ward</td>\n",
              "      <td>1.0</td>\n",
              "      <td>360000000</td>\n",
              "      <td>1K</td>\n",
              "      <td>160</td>\n",
              "      <td>Rectangular Shaped</td>\n",
              "      <td>8.9</td>\n",
              "      <td>1991.0</td>\n",
              "      <td>RC</td>\n",
              "      <td>Housing Complex, Office, Shop</td>\n",
              "      <td>North</td>\n",
              "      <td>Not yet</td>\n",
              "    </tr>\n",
              "    <tr>\n",
              "      <th>14686</th>\n",
              "      <td>Residential Land(Land and Building)</td>\n",
              "      <td>Shinjuku Ward</td>\n",
              "      <td>5.0</td>\n",
              "      <td>59000000</td>\n",
              "      <td>1K</td>\n",
              "      <td>50</td>\n",
              "      <td>Rectangular Shaped</td>\n",
              "      <td>7.2</td>\n",
              "      <td>2015.0</td>\n",
              "      <td>W</td>\n",
              "      <td>House</td>\n",
              "      <td>North</td>\n",
              "      <td>Not yet</td>\n",
              "    </tr>\n",
              "    <tr>\n",
              "      <th>14690</th>\n",
              "      <td>Residential Land(Land and Building)</td>\n",
              "      <td>Shinjuku Ward</td>\n",
              "      <td>5.0</td>\n",
              "      <td>59000000</td>\n",
              "      <td>1K</td>\n",
              "      <td>50</td>\n",
              "      <td>Rectangular Shaped</td>\n",
              "      <td>7.2</td>\n",
              "      <td>2015.0</td>\n",
              "      <td>W</td>\n",
              "      <td>House</td>\n",
              "      <td>North</td>\n",
              "      <td>Not yet</td>\n",
              "    </tr>\n",
              "    <tr>\n",
              "      <th>18342</th>\n",
              "      <td>Residential Land(Land and Building)</td>\n",
              "      <td>Shinjuku Ward</td>\n",
              "      <td>4.0</td>\n",
              "      <td>400000000</td>\n",
              "      <td>1K</td>\n",
              "      <td>145</td>\n",
              "      <td>Semi-rectangular Shaped</td>\n",
              "      <td>9.5</td>\n",
              "      <td>2014.0</td>\n",
              "      <td>RC</td>\n",
              "      <td>Housing Complex</td>\n",
              "      <td>North</td>\n",
              "      <td>Not yet</td>\n",
              "    </tr>\n",
              "    <tr>\n",
              "      <th>18343</th>\n",
              "      <td>Residential Land(Land and Building)</td>\n",
              "      <td>Shinjuku Ward</td>\n",
              "      <td>4.0</td>\n",
              "      <td>400000000</td>\n",
              "      <td>1K</td>\n",
              "      <td>145</td>\n",
              "      <td>Semi-rectangular Shaped</td>\n",
              "      <td>9.5</td>\n",
              "      <td>2014.0</td>\n",
              "      <td>RC</td>\n",
              "      <td>Housing Complex</td>\n",
              "      <td>North</td>\n",
              "      <td>Not yet</td>\n",
              "    </tr>\n",
              "  </tbody>\n",
              "</table>\n",
              "</div>\n",
              "    <div class=\"colab-df-buttons\">\n",
              "\n",
              "  <div class=\"colab-df-container\">\n",
              "    <button class=\"colab-df-convert\" onclick=\"convertToInteractive('df-652682fe-0e23-4479-a9c3-b1871564189a')\"\n",
              "            title=\"Convert this dataframe to an interactive table.\"\n",
              "            style=\"display:none;\">\n",
              "\n",
              "  <svg xmlns=\"http://www.w3.org/2000/svg\" height=\"24px\" viewBox=\"0 -960 960 960\">\n",
              "    <path d=\"M120-120v-720h720v720H120Zm60-500h600v-160H180v160Zm220 220h160v-160H400v160Zm0 220h160v-160H400v160ZM180-400h160v-160H180v160Zm440 0h160v-160H620v160ZM180-180h160v-160H180v160Zm440 0h160v-160H620v160Z\"/>\n",
              "  </svg>\n",
              "    </button>\n",
              "\n",
              "  <style>\n",
              "    .colab-df-container {\n",
              "      display:flex;\n",
              "      gap: 12px;\n",
              "    }\n",
              "\n",
              "    .colab-df-convert {\n",
              "      background-color: #E8F0FE;\n",
              "      border: none;\n",
              "      border-radius: 50%;\n",
              "      cursor: pointer;\n",
              "      display: none;\n",
              "      fill: #1967D2;\n",
              "      height: 32px;\n",
              "      padding: 0 0 0 0;\n",
              "      width: 32px;\n",
              "    }\n",
              "\n",
              "    .colab-df-convert:hover {\n",
              "      background-color: #E2EBFA;\n",
              "      box-shadow: 0px 1px 2px rgba(60, 64, 67, 0.3), 0px 1px 3px 1px rgba(60, 64, 67, 0.15);\n",
              "      fill: #174EA6;\n",
              "    }\n",
              "\n",
              "    .colab-df-buttons div {\n",
              "      margin-bottom: 4px;\n",
              "    }\n",
              "\n",
              "    [theme=dark] .colab-df-convert {\n",
              "      background-color: #3B4455;\n",
              "      fill: #D2E3FC;\n",
              "    }\n",
              "\n",
              "    [theme=dark] .colab-df-convert:hover {\n",
              "      background-color: #434B5C;\n",
              "      box-shadow: 0px 1px 3px 1px rgba(0, 0, 0, 0.15);\n",
              "      filter: drop-shadow(0px 1px 2px rgba(0, 0, 0, 0.3));\n",
              "      fill: #FFFFFF;\n",
              "    }\n",
              "  </style>\n",
              "\n",
              "    <script>\n",
              "      const buttonEl =\n",
              "        document.querySelector('#df-652682fe-0e23-4479-a9c3-b1871564189a button.colab-df-convert');\n",
              "      buttonEl.style.display =\n",
              "        google.colab.kernel.accessAllowed ? 'block' : 'none';\n",
              "\n",
              "      async function convertToInteractive(key) {\n",
              "        const element = document.querySelector('#df-652682fe-0e23-4479-a9c3-b1871564189a');\n",
              "        const dataTable =\n",
              "          await google.colab.kernel.invokeFunction('convertToInteractive',\n",
              "                                                    [key], {});\n",
              "        if (!dataTable) return;\n",
              "\n",
              "        const docLinkHtml = 'Like what you see? Visit the ' +\n",
              "          '<a target=\"_blank\" href=https://colab.research.google.com/notebooks/data_table.ipynb>data table notebook</a>'\n",
              "          + ' to learn more about interactive tables.';\n",
              "        element.innerHTML = '';\n",
              "        dataTable['output_type'] = 'display_data';\n",
              "        await google.colab.output.renderOutput(dataTable, element);\n",
              "        const docLink = document.createElement('div');\n",
              "        docLink.innerHTML = docLinkHtml;\n",
              "        element.appendChild(docLink);\n",
              "      }\n",
              "    </script>\n",
              "  </div>\n",
              "\n",
              "\n",
              "    <div id=\"df-97284da2-a9d2-45ea-805e-6a8ba77649ae\">\n",
              "      <button class=\"colab-df-quickchart\" onclick=\"quickchart('df-97284da2-a9d2-45ea-805e-6a8ba77649ae')\"\n",
              "                title=\"Suggest charts\"\n",
              "                style=\"display:none;\">\n",
              "\n",
              "<svg xmlns=\"http://www.w3.org/2000/svg\" height=\"24px\"viewBox=\"0 0 24 24\"\n",
              "     width=\"24px\">\n",
              "    <g>\n",
              "        <path d=\"M19 3H5c-1.1 0-2 .9-2 2v14c0 1.1.9 2 2 2h14c1.1 0 2-.9 2-2V5c0-1.1-.9-2-2-2zM9 17H7v-7h2v7zm4 0h-2V7h2v10zm4 0h-2v-4h2v4z\"/>\n",
              "    </g>\n",
              "</svg>\n",
              "      </button>\n",
              "\n",
              "<style>\n",
              "  .colab-df-quickchart {\n",
              "      --bg-color: #E8F0FE;\n",
              "      --fill-color: #1967D2;\n",
              "      --hover-bg-color: #E2EBFA;\n",
              "      --hover-fill-color: #174EA6;\n",
              "      --disabled-fill-color: #AAA;\n",
              "      --disabled-bg-color: #DDD;\n",
              "  }\n",
              "\n",
              "  [theme=dark] .colab-df-quickchart {\n",
              "      --bg-color: #3B4455;\n",
              "      --fill-color: #D2E3FC;\n",
              "      --hover-bg-color: #434B5C;\n",
              "      --hover-fill-color: #FFFFFF;\n",
              "      --disabled-bg-color: #3B4455;\n",
              "      --disabled-fill-color: #666;\n",
              "  }\n",
              "\n",
              "  .colab-df-quickchart {\n",
              "    background-color: var(--bg-color);\n",
              "    border: none;\n",
              "    border-radius: 50%;\n",
              "    cursor: pointer;\n",
              "    display: none;\n",
              "    fill: var(--fill-color);\n",
              "    height: 32px;\n",
              "    padding: 0;\n",
              "    width: 32px;\n",
              "  }\n",
              "\n",
              "  .colab-df-quickchart:hover {\n",
              "    background-color: var(--hover-bg-color);\n",
              "    box-shadow: 0 1px 2px rgba(60, 64, 67, 0.3), 0 1px 3px 1px rgba(60, 64, 67, 0.15);\n",
              "    fill: var(--button-hover-fill-color);\n",
              "  }\n",
              "\n",
              "  .colab-df-quickchart-complete:disabled,\n",
              "  .colab-df-quickchart-complete:disabled:hover {\n",
              "    background-color: var(--disabled-bg-color);\n",
              "    fill: var(--disabled-fill-color);\n",
              "    box-shadow: none;\n",
              "  }\n",
              "\n",
              "  .colab-df-spinner {\n",
              "    border: 2px solid var(--fill-color);\n",
              "    border-color: transparent;\n",
              "    border-bottom-color: var(--fill-color);\n",
              "    animation:\n",
              "      spin 1s steps(1) infinite;\n",
              "  }\n",
              "\n",
              "  @keyframes spin {\n",
              "    0% {\n",
              "      border-color: transparent;\n",
              "      border-bottom-color: var(--fill-color);\n",
              "      border-left-color: var(--fill-color);\n",
              "    }\n",
              "    20% {\n",
              "      border-color: transparent;\n",
              "      border-left-color: var(--fill-color);\n",
              "      border-top-color: var(--fill-color);\n",
              "    }\n",
              "    30% {\n",
              "      border-color: transparent;\n",
              "      border-left-color: var(--fill-color);\n",
              "      border-top-color: var(--fill-color);\n",
              "      border-right-color: var(--fill-color);\n",
              "    }\n",
              "    40% {\n",
              "      border-color: transparent;\n",
              "      border-right-color: var(--fill-color);\n",
              "      border-top-color: var(--fill-color);\n",
              "    }\n",
              "    60% {\n",
              "      border-color: transparent;\n",
              "      border-right-color: var(--fill-color);\n",
              "    }\n",
              "    80% {\n",
              "      border-color: transparent;\n",
              "      border-right-color: var(--fill-color);\n",
              "      border-bottom-color: var(--fill-color);\n",
              "    }\n",
              "    90% {\n",
              "      border-color: transparent;\n",
              "      border-bottom-color: var(--fill-color);\n",
              "    }\n",
              "  }\n",
              "</style>\n",
              "\n",
              "      <script>\n",
              "        async function quickchart(key) {\n",
              "          const quickchartButtonEl =\n",
              "            document.querySelector('#' + key + ' button');\n",
              "          quickchartButtonEl.disabled = true;  // To prevent multiple clicks.\n",
              "          quickchartButtonEl.classList.add('colab-df-spinner');\n",
              "          try {\n",
              "            const charts = await google.colab.kernel.invokeFunction(\n",
              "                'suggestCharts', [key], {});\n",
              "          } catch (error) {\n",
              "            console.error('Error during call to suggestCharts:', error);\n",
              "          }\n",
              "          quickchartButtonEl.classList.remove('colab-df-spinner');\n",
              "          quickchartButtonEl.classList.add('colab-df-quickchart-complete');\n",
              "        }\n",
              "        (() => {\n",
              "          let quickchartButtonEl =\n",
              "            document.querySelector('#df-97284da2-a9d2-45ea-805e-6a8ba77649ae button');\n",
              "          quickchartButtonEl.style.display =\n",
              "            google.colab.kernel.accessAllowed ? 'block' : 'none';\n",
              "        })();\n",
              "      </script>\n",
              "    </div>\n",
              "\n",
              "  <div id=\"id_2dc1d1e2-27c4-4924-ba80-f7a9af05271a\">\n",
              "    <style>\n",
              "      .colab-df-generate {\n",
              "        background-color: #E8F0FE;\n",
              "        border: none;\n",
              "        border-radius: 50%;\n",
              "        cursor: pointer;\n",
              "        display: none;\n",
              "        fill: #1967D2;\n",
              "        height: 32px;\n",
              "        padding: 0 0 0 0;\n",
              "        width: 32px;\n",
              "      }\n",
              "\n",
              "      .colab-df-generate:hover {\n",
              "        background-color: #E2EBFA;\n",
              "        box-shadow: 0px 1px 2px rgba(60, 64, 67, 0.3), 0px 1px 3px 1px rgba(60, 64, 67, 0.15);\n",
              "        fill: #174EA6;\n",
              "      }\n",
              "\n",
              "      [theme=dark] .colab-df-generate {\n",
              "        background-color: #3B4455;\n",
              "        fill: #D2E3FC;\n",
              "      }\n",
              "\n",
              "      [theme=dark] .colab-df-generate:hover {\n",
              "        background-color: #434B5C;\n",
              "        box-shadow: 0px 1px 3px 1px rgba(0, 0, 0, 0.15);\n",
              "        filter: drop-shadow(0px 1px 2px rgba(0, 0, 0, 0.3));\n",
              "        fill: #FFFFFF;\n",
              "      }\n",
              "    </style>\n",
              "    <button class=\"colab-df-generate\" onclick=\"generateWithVariable('duplicate_rows')\"\n",
              "            title=\"Generate code using this dataframe.\"\n",
              "            style=\"display:none;\">\n",
              "\n",
              "  <svg xmlns=\"http://www.w3.org/2000/svg\" height=\"24px\"viewBox=\"0 0 24 24\"\n",
              "       width=\"24px\">\n",
              "    <path d=\"M7,19H8.4L18.45,9,17,7.55,7,17.6ZM5,21V16.75L18.45,3.32a2,2,0,0,1,2.83,0l1.4,1.43a1.91,1.91,0,0,1,.58,1.4,1.91,1.91,0,0,1-.58,1.4L9.25,21ZM18.45,9,17,7.55Zm-12,3A5.31,5.31,0,0,0,4.9,8.1,5.31,5.31,0,0,0,1,6.5,5.31,5.31,0,0,0,4.9,4.9,5.31,5.31,0,0,0,6.5,1,5.31,5.31,0,0,0,8.1,4.9,5.31,5.31,0,0,0,12,6.5,5.46,5.46,0,0,0,6.5,12Z\"/>\n",
              "  </svg>\n",
              "    </button>\n",
              "    <script>\n",
              "      (() => {\n",
              "      const buttonEl =\n",
              "        document.querySelector('#id_2dc1d1e2-27c4-4924-ba80-f7a9af05271a button.colab-df-generate');\n",
              "      buttonEl.style.display =\n",
              "        google.colab.kernel.accessAllowed ? 'block' : 'none';\n",
              "\n",
              "      buttonEl.onclick = () => {\n",
              "        google.colab.notebook.generateWithVariable('duplicate_rows');\n",
              "      }\n",
              "      })();\n",
              "    </script>\n",
              "  </div>\n",
              "\n",
              "    </div>\n",
              "  </div>\n"
            ],
            "application/vnd.google.colaboratory.intrinsic+json": {
              "type": "dataframe",
              "variable_name": "duplicate_rows",
              "summary": "{\n  \"name\": \"duplicate_rows\",\n  \"rows\": 8,\n  \"fields\": [\n    {\n      \"column\": \"Type\",\n      \"properties\": {\n        \"dtype\": \"category\",\n        \"num_unique_values\": 1,\n        \"samples\": [\n          \"Residential Land(Land and Building)\"\n        ],\n        \"semantic_type\": \"\",\n        \"description\": \"\"\n      }\n    },\n    {\n      \"column\": \"Municipality\",\n      \"properties\": {\n        \"dtype\": \"category\",\n        \"num_unique_values\": 3,\n        \"samples\": [\n          \"Chuo Ward\"\n        ],\n        \"semantic_type\": \"\",\n        \"description\": \"\"\n      }\n    },\n    {\n      \"column\": \"NearStation\",\n      \"properties\": {\n        \"dtype\": \"number\",\n        \"std\": 1.6903085094570331,\n        \"min\": 1.0,\n        \"max\": 5.0,\n        \"num_unique_values\": 4,\n        \"samples\": [\n          1.0\n        ],\n        \"semantic_type\": \"\",\n        \"description\": \"\"\n      }\n    },\n    {\n      \"column\": \"Price\",\n      \"properties\": {\n        \"dtype\": \"number\",\n        \"std\": 142308267,\n        \"min\": 59000000,\n        \"max\": 400000000,\n        \"num_unique_values\": 4,\n        \"samples\": [\n          360000000\n        ],\n        \"semantic_type\": \"\",\n        \"description\": \"\"\n      }\n    },\n    {\n      \"column\": \"FloorPlan\",\n      \"properties\": {\n        \"dtype\": \"category\",\n        \"num_unique_values\": 1,\n        \"samples\": [\n          \"1K\"\n        ],\n        \"semantic_type\": \"\",\n        \"description\": \"\"\n      }\n    },\n    {\n      \"column\": \"Area\",\n      \"properties\": {\n        \"dtype\": \"number\",\n        \"std\": 48,\n        \"min\": 50,\n        \"max\": 160,\n        \"num_unique_values\": 4,\n        \"samples\": [\n          160\n        ],\n        \"semantic_type\": \"\",\n        \"description\": \"\"\n      }\n    },\n    {\n      \"column\": \"LandShape\",\n      \"properties\": {\n        \"dtype\": \"category\",\n        \"num_unique_values\": 2,\n        \"samples\": [\n          \"Semi-rectangular Shaped\"\n        ],\n        \"semantic_type\": \"\",\n        \"description\": \"\"\n      }\n    },\n    {\n      \"column\": \"Frontage\",\n      \"properties\": {\n        \"dtype\": \"number\",\n        \"std\": 1.1476684439082818,\n        \"min\": 7.0,\n        \"max\": 9.5,\n        \"num_unique_values\": 4,\n        \"samples\": [\n          8.9\n        ],\n        \"semantic_type\": \"\",\n        \"description\": \"\"\n      }\n    },\n    {\n      \"column\": \"BuildingYear\",\n      \"properties\": {\n        \"dtype\": \"number\",\n        \"std\": 22.258224804071222,\n        \"min\": 1964.0,\n        \"max\": 2015.0,\n        \"num_unique_values\": 4,\n        \"samples\": [\n          1991.0\n        ],\n        \"semantic_type\": \"\",\n        \"description\": \"\"\n      }\n    },\n    {\n      \"column\": \"Structure\",\n      \"properties\": {\n        \"dtype\": \"category\",\n        \"num_unique_values\": 3,\n        \"samples\": [\n          \"SRC\"\n        ],\n        \"semantic_type\": \"\",\n        \"description\": \"\"\n      }\n    },\n    {\n      \"column\": \"Use\",\n      \"properties\": {\n        \"dtype\": \"string\",\n        \"num_unique_values\": 4,\n        \"samples\": [\n          \"Housing Complex, Office, Shop\"\n        ],\n        \"semantic_type\": \"\",\n        \"description\": \"\"\n      }\n    },\n    {\n      \"column\": \"Direction\",\n      \"properties\": {\n        \"dtype\": \"category\",\n        \"num_unique_values\": 2,\n        \"samples\": [\n          \"North\"\n        ],\n        \"semantic_type\": \"\",\n        \"description\": \"\"\n      }\n    },\n    {\n      \"column\": \"Renovation\",\n      \"properties\": {\n        \"dtype\": \"category\",\n        \"num_unique_values\": 1,\n        \"samples\": [\n          \"Not yet\"\n        ],\n        \"semantic_type\": \"\",\n        \"description\": \"\"\n      }\n    }\n  ]\n}"
            }
          },
          "metadata": {},
          "execution_count": 135
        }
      ],
      "source": [
        "duplicate_rows = df[df.duplicated(keep=False)]\n",
        "\n",
        "duplicate_rows = pd.DataFrame(duplicate_rows)\n",
        "duplicate_rows"
      ]
    },
    {
      "cell_type": "code",
      "execution_count": 136,
      "id": "2fb69e68",
      "metadata": {
        "colab": {
          "base_uri": "https://localhost:8080/"
        },
        "id": "2fb69e68",
        "outputId": "f6720110-c987-42a7-958a-63e7f96a6bd9"
      },
      "outputs": [
        {
          "output_type": "stream",
          "name": "stdout",
          "text": [
            "before:  (2765, 13)\n",
            "after:  (2761, 13)\n"
          ]
        }
      ],
      "source": [
        "print(\"before: \", df.shape)\n",
        "df = df.drop_duplicates(keep='first')\n",
        "print(\"after: \", df.shape)"
      ]
    },
    {
      "cell_type": "markdown",
      "id": "8430c99b",
      "metadata": {
        "id": "8430c99b"
      },
      "source": [
        "Then, we can check duplicate rows again."
      ]
    },
    {
      "cell_type": "code",
      "execution_count": 137,
      "id": "a74169f5",
      "metadata": {
        "colab": {
          "base_uri": "https://localhost:8080/"
        },
        "id": "a74169f5",
        "outputId": "4e769875-6620-4d93-fb0b-823862446282"
      },
      "outputs": [
        {
          "output_type": "stream",
          "name": "stdout",
          "text": [
            "The DataFrame does not have duplicate rows.\n"
          ]
        }
      ],
      "source": [
        "duplicate_rows = df.duplicated()\n",
        "\n",
        "if duplicate_rows.any():\n",
        "    print(\"The DataFrame has duplicate rows.\")\n",
        "else:\n",
        "    print(\"The DataFrame does not have duplicate rows.\")"
      ]
    },
    {
      "cell_type": "markdown",
      "id": "5ed89478",
      "metadata": {
        "id": "5ed89478"
      },
      "source": [
        "<hr>"
      ]
    },
    {
      "cell_type": "markdown",
      "id": "e89d2db5",
      "metadata": {
        "id": "e89d2db5"
      },
      "source": [
        "## 6 - Handle Number Variables"
      ]
    },
    {
      "cell_type": "markdown",
      "id": "a6a6e5d8",
      "metadata": {
        "id": "a6a6e5d8"
      },
      "source": [
        "First of all, I declare all number variables. The number variables are: “Area”, “Frontage”, “NearStation”, “BuildingYear”, “Price”."
      ]
    },
    {
      "cell_type": "code",
      "execution_count": 138,
      "id": "a5768f4d",
      "metadata": {
        "id": "a5768f4d"
      },
      "outputs": [],
      "source": [
        "num_list = ['Area', 'Frontage', 'NearStation', 'BuildingYear', 'Price']"
      ]
    },
    {
      "cell_type": "markdown",
      "id": "4fc82634",
      "metadata": {
        "id": "4fc82634"
      },
      "source": [
        "I must make sure about the data type of the number variable. Just because the column shows numbers, it doesn't mean that they are numbers.Thus, with regular expression I should clean them."
      ]
    },
    {
      "cell_type": "code",
      "execution_count": 139,
      "id": "4c14e783",
      "metadata": {
        "id": "4c14e783"
      },
      "outputs": [],
      "source": [
        "def non_numeric(x):\n",
        "    non_numeric_df = pd.DataFrame(df[df[x].astype(str).str.contains('[^\\d\\.]+')])\n",
        "    return non_numeric_df"
      ]
    },
    {
      "cell_type": "code",
      "execution_count": 140,
      "id": "61e1c785",
      "metadata": {
        "colab": {
          "base_uri": "https://localhost:8080/",
          "height": 53
        },
        "id": "61e1c785",
        "outputId": "0f033e35-3523-4802-dd28-efda539a0f8a"
      },
      "outputs": [
        {
          "output_type": "execute_result",
          "data": {
            "text/plain": [
              "Empty DataFrame\n",
              "Columns: [Type, Municipality, NearStation, Price, FloorPlan, Area, LandShape, Frontage, BuildingYear, Structure, Use, Direction, Renovation]\n",
              "Index: []"
            ],
            "text/html": [
              "\n",
              "  <div id=\"df-ea99f631-8779-4c69-98bf-7596d2b2213f\" class=\"colab-df-container\">\n",
              "    <div>\n",
              "<style scoped>\n",
              "    .dataframe tbody tr th:only-of-type {\n",
              "        vertical-align: middle;\n",
              "    }\n",
              "\n",
              "    .dataframe tbody tr th {\n",
              "        vertical-align: top;\n",
              "    }\n",
              "\n",
              "    .dataframe thead th {\n",
              "        text-align: right;\n",
              "    }\n",
              "</style>\n",
              "<table border=\"1\" class=\"dataframe\">\n",
              "  <thead>\n",
              "    <tr style=\"text-align: right;\">\n",
              "      <th></th>\n",
              "      <th>Type</th>\n",
              "      <th>Municipality</th>\n",
              "      <th>NearStation</th>\n",
              "      <th>Price</th>\n",
              "      <th>FloorPlan</th>\n",
              "      <th>Area</th>\n",
              "      <th>LandShape</th>\n",
              "      <th>Frontage</th>\n",
              "      <th>BuildingYear</th>\n",
              "      <th>Structure</th>\n",
              "      <th>Use</th>\n",
              "      <th>Direction</th>\n",
              "      <th>Renovation</th>\n",
              "    </tr>\n",
              "  </thead>\n",
              "  <tbody>\n",
              "  </tbody>\n",
              "</table>\n",
              "</div>\n",
              "    <div class=\"colab-df-buttons\">\n",
              "\n",
              "  <div class=\"colab-df-container\">\n",
              "    <button class=\"colab-df-convert\" onclick=\"convertToInteractive('df-ea99f631-8779-4c69-98bf-7596d2b2213f')\"\n",
              "            title=\"Convert this dataframe to an interactive table.\"\n",
              "            style=\"display:none;\">\n",
              "\n",
              "  <svg xmlns=\"http://www.w3.org/2000/svg\" height=\"24px\" viewBox=\"0 -960 960 960\">\n",
              "    <path d=\"M120-120v-720h720v720H120Zm60-500h600v-160H180v160Zm220 220h160v-160H400v160Zm0 220h160v-160H400v160ZM180-400h160v-160H180v160Zm440 0h160v-160H620v160ZM180-180h160v-160H180v160Zm440 0h160v-160H620v160Z\"/>\n",
              "  </svg>\n",
              "    </button>\n",
              "\n",
              "  <style>\n",
              "    .colab-df-container {\n",
              "      display:flex;\n",
              "      gap: 12px;\n",
              "    }\n",
              "\n",
              "    .colab-df-convert {\n",
              "      background-color: #E8F0FE;\n",
              "      border: none;\n",
              "      border-radius: 50%;\n",
              "      cursor: pointer;\n",
              "      display: none;\n",
              "      fill: #1967D2;\n",
              "      height: 32px;\n",
              "      padding: 0 0 0 0;\n",
              "      width: 32px;\n",
              "    }\n",
              "\n",
              "    .colab-df-convert:hover {\n",
              "      background-color: #E2EBFA;\n",
              "      box-shadow: 0px 1px 2px rgba(60, 64, 67, 0.3), 0px 1px 3px 1px rgba(60, 64, 67, 0.15);\n",
              "      fill: #174EA6;\n",
              "    }\n",
              "\n",
              "    .colab-df-buttons div {\n",
              "      margin-bottom: 4px;\n",
              "    }\n",
              "\n",
              "    [theme=dark] .colab-df-convert {\n",
              "      background-color: #3B4455;\n",
              "      fill: #D2E3FC;\n",
              "    }\n",
              "\n",
              "    [theme=dark] .colab-df-convert:hover {\n",
              "      background-color: #434B5C;\n",
              "      box-shadow: 0px 1px 3px 1px rgba(0, 0, 0, 0.15);\n",
              "      filter: drop-shadow(0px 1px 2px rgba(0, 0, 0, 0.3));\n",
              "      fill: #FFFFFF;\n",
              "    }\n",
              "  </style>\n",
              "\n",
              "    <script>\n",
              "      const buttonEl =\n",
              "        document.querySelector('#df-ea99f631-8779-4c69-98bf-7596d2b2213f button.colab-df-convert');\n",
              "      buttonEl.style.display =\n",
              "        google.colab.kernel.accessAllowed ? 'block' : 'none';\n",
              "\n",
              "      async function convertToInteractive(key) {\n",
              "        const element = document.querySelector('#df-ea99f631-8779-4c69-98bf-7596d2b2213f');\n",
              "        const dataTable =\n",
              "          await google.colab.kernel.invokeFunction('convertToInteractive',\n",
              "                                                    [key], {});\n",
              "        if (!dataTable) return;\n",
              "\n",
              "        const docLinkHtml = 'Like what you see? Visit the ' +\n",
              "          '<a target=\"_blank\" href=https://colab.research.google.com/notebooks/data_table.ipynb>data table notebook</a>'\n",
              "          + ' to learn more about interactive tables.';\n",
              "        element.innerHTML = '';\n",
              "        dataTable['output_type'] = 'display_data';\n",
              "        await google.colab.output.renderOutput(dataTable, element);\n",
              "        const docLink = document.createElement('div');\n",
              "        docLink.innerHTML = docLinkHtml;\n",
              "        element.appendChild(docLink);\n",
              "      }\n",
              "    </script>\n",
              "  </div>\n",
              "\n",
              "\n",
              "    </div>\n",
              "  </div>\n"
            ],
            "application/vnd.google.colaboratory.intrinsic+json": {
              "type": "dataframe",
              "repr_error": "Out of range float values are not JSON compliant: nan"
            }
          },
          "metadata": {},
          "execution_count": 140
        }
      ],
      "source": [
        "non_numeric('Area')"
      ]
    },
    {
      "cell_type": "code",
      "execution_count": 141,
      "id": "922d5eec",
      "metadata": {
        "colab": {
          "base_uri": "https://localhost:8080/",
          "height": 53
        },
        "id": "922d5eec",
        "outputId": "a0b53899-94f6-4844-a44c-9822a699b509"
      },
      "outputs": [
        {
          "output_type": "execute_result",
          "data": {
            "text/plain": [
              "Empty DataFrame\n",
              "Columns: [Type, Municipality, NearStation, Price, FloorPlan, Area, LandShape, Frontage, BuildingYear, Structure, Use, Direction, Renovation]\n",
              "Index: []"
            ],
            "text/html": [
              "\n",
              "  <div id=\"df-e8f432c4-c7bd-4b1f-bf9e-ad57d0db7307\" class=\"colab-df-container\">\n",
              "    <div>\n",
              "<style scoped>\n",
              "    .dataframe tbody tr th:only-of-type {\n",
              "        vertical-align: middle;\n",
              "    }\n",
              "\n",
              "    .dataframe tbody tr th {\n",
              "        vertical-align: top;\n",
              "    }\n",
              "\n",
              "    .dataframe thead th {\n",
              "        text-align: right;\n",
              "    }\n",
              "</style>\n",
              "<table border=\"1\" class=\"dataframe\">\n",
              "  <thead>\n",
              "    <tr style=\"text-align: right;\">\n",
              "      <th></th>\n",
              "      <th>Type</th>\n",
              "      <th>Municipality</th>\n",
              "      <th>NearStation</th>\n",
              "      <th>Price</th>\n",
              "      <th>FloorPlan</th>\n",
              "      <th>Area</th>\n",
              "      <th>LandShape</th>\n",
              "      <th>Frontage</th>\n",
              "      <th>BuildingYear</th>\n",
              "      <th>Structure</th>\n",
              "      <th>Use</th>\n",
              "      <th>Direction</th>\n",
              "      <th>Renovation</th>\n",
              "    </tr>\n",
              "  </thead>\n",
              "  <tbody>\n",
              "  </tbody>\n",
              "</table>\n",
              "</div>\n",
              "    <div class=\"colab-df-buttons\">\n",
              "\n",
              "  <div class=\"colab-df-container\">\n",
              "    <button class=\"colab-df-convert\" onclick=\"convertToInteractive('df-e8f432c4-c7bd-4b1f-bf9e-ad57d0db7307')\"\n",
              "            title=\"Convert this dataframe to an interactive table.\"\n",
              "            style=\"display:none;\">\n",
              "\n",
              "  <svg xmlns=\"http://www.w3.org/2000/svg\" height=\"24px\" viewBox=\"0 -960 960 960\">\n",
              "    <path d=\"M120-120v-720h720v720H120Zm60-500h600v-160H180v160Zm220 220h160v-160H400v160Zm0 220h160v-160H400v160ZM180-400h160v-160H180v160Zm440 0h160v-160H620v160ZM180-180h160v-160H180v160Zm440 0h160v-160H620v160Z\"/>\n",
              "  </svg>\n",
              "    </button>\n",
              "\n",
              "  <style>\n",
              "    .colab-df-container {\n",
              "      display:flex;\n",
              "      gap: 12px;\n",
              "    }\n",
              "\n",
              "    .colab-df-convert {\n",
              "      background-color: #E8F0FE;\n",
              "      border: none;\n",
              "      border-radius: 50%;\n",
              "      cursor: pointer;\n",
              "      display: none;\n",
              "      fill: #1967D2;\n",
              "      height: 32px;\n",
              "      padding: 0 0 0 0;\n",
              "      width: 32px;\n",
              "    }\n",
              "\n",
              "    .colab-df-convert:hover {\n",
              "      background-color: #E2EBFA;\n",
              "      box-shadow: 0px 1px 2px rgba(60, 64, 67, 0.3), 0px 1px 3px 1px rgba(60, 64, 67, 0.15);\n",
              "      fill: #174EA6;\n",
              "    }\n",
              "\n",
              "    .colab-df-buttons div {\n",
              "      margin-bottom: 4px;\n",
              "    }\n",
              "\n",
              "    [theme=dark] .colab-df-convert {\n",
              "      background-color: #3B4455;\n",
              "      fill: #D2E3FC;\n",
              "    }\n",
              "\n",
              "    [theme=dark] .colab-df-convert:hover {\n",
              "      background-color: #434B5C;\n",
              "      box-shadow: 0px 1px 3px 1px rgba(0, 0, 0, 0.15);\n",
              "      filter: drop-shadow(0px 1px 2px rgba(0, 0, 0, 0.3));\n",
              "      fill: #FFFFFF;\n",
              "    }\n",
              "  </style>\n",
              "\n",
              "    <script>\n",
              "      const buttonEl =\n",
              "        document.querySelector('#df-e8f432c4-c7bd-4b1f-bf9e-ad57d0db7307 button.colab-df-convert');\n",
              "      buttonEl.style.display =\n",
              "        google.colab.kernel.accessAllowed ? 'block' : 'none';\n",
              "\n",
              "      async function convertToInteractive(key) {\n",
              "        const element = document.querySelector('#df-e8f432c4-c7bd-4b1f-bf9e-ad57d0db7307');\n",
              "        const dataTable =\n",
              "          await google.colab.kernel.invokeFunction('convertToInteractive',\n",
              "                                                    [key], {});\n",
              "        if (!dataTable) return;\n",
              "\n",
              "        const docLinkHtml = 'Like what you see? Visit the ' +\n",
              "          '<a target=\"_blank\" href=https://colab.research.google.com/notebooks/data_table.ipynb>data table notebook</a>'\n",
              "          + ' to learn more about interactive tables.';\n",
              "        element.innerHTML = '';\n",
              "        dataTable['output_type'] = 'display_data';\n",
              "        await google.colab.output.renderOutput(dataTable, element);\n",
              "        const docLink = document.createElement('div');\n",
              "        docLink.innerHTML = docLinkHtml;\n",
              "        element.appendChild(docLink);\n",
              "      }\n",
              "    </script>\n",
              "  </div>\n",
              "\n",
              "\n",
              "    </div>\n",
              "  </div>\n"
            ],
            "application/vnd.google.colaboratory.intrinsic+json": {
              "type": "dataframe",
              "repr_error": "Out of range float values are not JSON compliant: nan"
            }
          },
          "metadata": {},
          "execution_count": 141
        }
      ],
      "source": [
        "non_numeric('Frontage')"
      ]
    },
    {
      "cell_type": "code",
      "execution_count": 142,
      "id": "dae8e2b4",
      "metadata": {
        "colab": {
          "base_uri": "https://localhost:8080/",
          "height": 53
        },
        "id": "dae8e2b4",
        "outputId": "329cd714-7780-4bea-c099-a6a76b7bfd06"
      },
      "outputs": [
        {
          "output_type": "execute_result",
          "data": {
            "text/plain": [
              "Empty DataFrame\n",
              "Columns: [Type, Municipality, NearStation, Price, FloorPlan, Area, LandShape, Frontage, BuildingYear, Structure, Use, Direction, Renovation]\n",
              "Index: []"
            ],
            "text/html": [
              "\n",
              "  <div id=\"df-21f6e940-0567-43dc-a877-ccaed770a0f4\" class=\"colab-df-container\">\n",
              "    <div>\n",
              "<style scoped>\n",
              "    .dataframe tbody tr th:only-of-type {\n",
              "        vertical-align: middle;\n",
              "    }\n",
              "\n",
              "    .dataframe tbody tr th {\n",
              "        vertical-align: top;\n",
              "    }\n",
              "\n",
              "    .dataframe thead th {\n",
              "        text-align: right;\n",
              "    }\n",
              "</style>\n",
              "<table border=\"1\" class=\"dataframe\">\n",
              "  <thead>\n",
              "    <tr style=\"text-align: right;\">\n",
              "      <th></th>\n",
              "      <th>Type</th>\n",
              "      <th>Municipality</th>\n",
              "      <th>NearStation</th>\n",
              "      <th>Price</th>\n",
              "      <th>FloorPlan</th>\n",
              "      <th>Area</th>\n",
              "      <th>LandShape</th>\n",
              "      <th>Frontage</th>\n",
              "      <th>BuildingYear</th>\n",
              "      <th>Structure</th>\n",
              "      <th>Use</th>\n",
              "      <th>Direction</th>\n",
              "      <th>Renovation</th>\n",
              "    </tr>\n",
              "  </thead>\n",
              "  <tbody>\n",
              "  </tbody>\n",
              "</table>\n",
              "</div>\n",
              "    <div class=\"colab-df-buttons\">\n",
              "\n",
              "  <div class=\"colab-df-container\">\n",
              "    <button class=\"colab-df-convert\" onclick=\"convertToInteractive('df-21f6e940-0567-43dc-a877-ccaed770a0f4')\"\n",
              "            title=\"Convert this dataframe to an interactive table.\"\n",
              "            style=\"display:none;\">\n",
              "\n",
              "  <svg xmlns=\"http://www.w3.org/2000/svg\" height=\"24px\" viewBox=\"0 -960 960 960\">\n",
              "    <path d=\"M120-120v-720h720v720H120Zm60-500h600v-160H180v160Zm220 220h160v-160H400v160Zm0 220h160v-160H400v160ZM180-400h160v-160H180v160Zm440 0h160v-160H620v160ZM180-180h160v-160H180v160Zm440 0h160v-160H620v160Z\"/>\n",
              "  </svg>\n",
              "    </button>\n",
              "\n",
              "  <style>\n",
              "    .colab-df-container {\n",
              "      display:flex;\n",
              "      gap: 12px;\n",
              "    }\n",
              "\n",
              "    .colab-df-convert {\n",
              "      background-color: #E8F0FE;\n",
              "      border: none;\n",
              "      border-radius: 50%;\n",
              "      cursor: pointer;\n",
              "      display: none;\n",
              "      fill: #1967D2;\n",
              "      height: 32px;\n",
              "      padding: 0 0 0 0;\n",
              "      width: 32px;\n",
              "    }\n",
              "\n",
              "    .colab-df-convert:hover {\n",
              "      background-color: #E2EBFA;\n",
              "      box-shadow: 0px 1px 2px rgba(60, 64, 67, 0.3), 0px 1px 3px 1px rgba(60, 64, 67, 0.15);\n",
              "      fill: #174EA6;\n",
              "    }\n",
              "\n",
              "    .colab-df-buttons div {\n",
              "      margin-bottom: 4px;\n",
              "    }\n",
              "\n",
              "    [theme=dark] .colab-df-convert {\n",
              "      background-color: #3B4455;\n",
              "      fill: #D2E3FC;\n",
              "    }\n",
              "\n",
              "    [theme=dark] .colab-df-convert:hover {\n",
              "      background-color: #434B5C;\n",
              "      box-shadow: 0px 1px 3px 1px rgba(0, 0, 0, 0.15);\n",
              "      filter: drop-shadow(0px 1px 2px rgba(0, 0, 0, 0.3));\n",
              "      fill: #FFFFFF;\n",
              "    }\n",
              "  </style>\n",
              "\n",
              "    <script>\n",
              "      const buttonEl =\n",
              "        document.querySelector('#df-21f6e940-0567-43dc-a877-ccaed770a0f4 button.colab-df-convert');\n",
              "      buttonEl.style.display =\n",
              "        google.colab.kernel.accessAllowed ? 'block' : 'none';\n",
              "\n",
              "      async function convertToInteractive(key) {\n",
              "        const element = document.querySelector('#df-21f6e940-0567-43dc-a877-ccaed770a0f4');\n",
              "        const dataTable =\n",
              "          await google.colab.kernel.invokeFunction('convertToInteractive',\n",
              "                                                    [key], {});\n",
              "        if (!dataTable) return;\n",
              "\n",
              "        const docLinkHtml = 'Like what you see? Visit the ' +\n",
              "          '<a target=\"_blank\" href=https://colab.research.google.com/notebooks/data_table.ipynb>data table notebook</a>'\n",
              "          + ' to learn more about interactive tables.';\n",
              "        element.innerHTML = '';\n",
              "        dataTable['output_type'] = 'display_data';\n",
              "        await google.colab.output.renderOutput(dataTable, element);\n",
              "        const docLink = document.createElement('div');\n",
              "        docLink.innerHTML = docLinkHtml;\n",
              "        element.appendChild(docLink);\n",
              "      }\n",
              "    </script>\n",
              "  </div>\n",
              "\n",
              "\n",
              "    </div>\n",
              "  </div>\n"
            ],
            "application/vnd.google.colaboratory.intrinsic+json": {
              "type": "dataframe",
              "repr_error": "Out of range float values are not JSON compliant: nan"
            }
          },
          "metadata": {},
          "execution_count": 142
        }
      ],
      "source": [
        "non_numeric('NearStation')"
      ]
    },
    {
      "cell_type": "code",
      "execution_count": 143,
      "id": "d14e987e",
      "metadata": {
        "colab": {
          "base_uri": "https://localhost:8080/",
          "height": 53
        },
        "id": "d14e987e",
        "outputId": "b21411c5-965a-4fca-bff8-a42d405b8556"
      },
      "outputs": [
        {
          "output_type": "execute_result",
          "data": {
            "text/plain": [
              "Empty DataFrame\n",
              "Columns: [Type, Municipality, NearStation, Price, FloorPlan, Area, LandShape, Frontage, BuildingYear, Structure, Use, Direction, Renovation]\n",
              "Index: []"
            ],
            "text/html": [
              "\n",
              "  <div id=\"df-6b45a2cb-405a-4956-b3a6-97c9f6731c5a\" class=\"colab-df-container\">\n",
              "    <div>\n",
              "<style scoped>\n",
              "    .dataframe tbody tr th:only-of-type {\n",
              "        vertical-align: middle;\n",
              "    }\n",
              "\n",
              "    .dataframe tbody tr th {\n",
              "        vertical-align: top;\n",
              "    }\n",
              "\n",
              "    .dataframe thead th {\n",
              "        text-align: right;\n",
              "    }\n",
              "</style>\n",
              "<table border=\"1\" class=\"dataframe\">\n",
              "  <thead>\n",
              "    <tr style=\"text-align: right;\">\n",
              "      <th></th>\n",
              "      <th>Type</th>\n",
              "      <th>Municipality</th>\n",
              "      <th>NearStation</th>\n",
              "      <th>Price</th>\n",
              "      <th>FloorPlan</th>\n",
              "      <th>Area</th>\n",
              "      <th>LandShape</th>\n",
              "      <th>Frontage</th>\n",
              "      <th>BuildingYear</th>\n",
              "      <th>Structure</th>\n",
              "      <th>Use</th>\n",
              "      <th>Direction</th>\n",
              "      <th>Renovation</th>\n",
              "    </tr>\n",
              "  </thead>\n",
              "  <tbody>\n",
              "  </tbody>\n",
              "</table>\n",
              "</div>\n",
              "    <div class=\"colab-df-buttons\">\n",
              "\n",
              "  <div class=\"colab-df-container\">\n",
              "    <button class=\"colab-df-convert\" onclick=\"convertToInteractive('df-6b45a2cb-405a-4956-b3a6-97c9f6731c5a')\"\n",
              "            title=\"Convert this dataframe to an interactive table.\"\n",
              "            style=\"display:none;\">\n",
              "\n",
              "  <svg xmlns=\"http://www.w3.org/2000/svg\" height=\"24px\" viewBox=\"0 -960 960 960\">\n",
              "    <path d=\"M120-120v-720h720v720H120Zm60-500h600v-160H180v160Zm220 220h160v-160H400v160Zm0 220h160v-160H400v160ZM180-400h160v-160H180v160Zm440 0h160v-160H620v160ZM180-180h160v-160H180v160Zm440 0h160v-160H620v160Z\"/>\n",
              "  </svg>\n",
              "    </button>\n",
              "\n",
              "  <style>\n",
              "    .colab-df-container {\n",
              "      display:flex;\n",
              "      gap: 12px;\n",
              "    }\n",
              "\n",
              "    .colab-df-convert {\n",
              "      background-color: #E8F0FE;\n",
              "      border: none;\n",
              "      border-radius: 50%;\n",
              "      cursor: pointer;\n",
              "      display: none;\n",
              "      fill: #1967D2;\n",
              "      height: 32px;\n",
              "      padding: 0 0 0 0;\n",
              "      width: 32px;\n",
              "    }\n",
              "\n",
              "    .colab-df-convert:hover {\n",
              "      background-color: #E2EBFA;\n",
              "      box-shadow: 0px 1px 2px rgba(60, 64, 67, 0.3), 0px 1px 3px 1px rgba(60, 64, 67, 0.15);\n",
              "      fill: #174EA6;\n",
              "    }\n",
              "\n",
              "    .colab-df-buttons div {\n",
              "      margin-bottom: 4px;\n",
              "    }\n",
              "\n",
              "    [theme=dark] .colab-df-convert {\n",
              "      background-color: #3B4455;\n",
              "      fill: #D2E3FC;\n",
              "    }\n",
              "\n",
              "    [theme=dark] .colab-df-convert:hover {\n",
              "      background-color: #434B5C;\n",
              "      box-shadow: 0px 1px 3px 1px rgba(0, 0, 0, 0.15);\n",
              "      filter: drop-shadow(0px 1px 2px rgba(0, 0, 0, 0.3));\n",
              "      fill: #FFFFFF;\n",
              "    }\n",
              "  </style>\n",
              "\n",
              "    <script>\n",
              "      const buttonEl =\n",
              "        document.querySelector('#df-6b45a2cb-405a-4956-b3a6-97c9f6731c5a button.colab-df-convert');\n",
              "      buttonEl.style.display =\n",
              "        google.colab.kernel.accessAllowed ? 'block' : 'none';\n",
              "\n",
              "      async function convertToInteractive(key) {\n",
              "        const element = document.querySelector('#df-6b45a2cb-405a-4956-b3a6-97c9f6731c5a');\n",
              "        const dataTable =\n",
              "          await google.colab.kernel.invokeFunction('convertToInteractive',\n",
              "                                                    [key], {});\n",
              "        if (!dataTable) return;\n",
              "\n",
              "        const docLinkHtml = 'Like what you see? Visit the ' +\n",
              "          '<a target=\"_blank\" href=https://colab.research.google.com/notebooks/data_table.ipynb>data table notebook</a>'\n",
              "          + ' to learn more about interactive tables.';\n",
              "        element.innerHTML = '';\n",
              "        dataTable['output_type'] = 'display_data';\n",
              "        await google.colab.output.renderOutput(dataTable, element);\n",
              "        const docLink = document.createElement('div');\n",
              "        docLink.innerHTML = docLinkHtml;\n",
              "        element.appendChild(docLink);\n",
              "      }\n",
              "    </script>\n",
              "  </div>\n",
              "\n",
              "\n",
              "    </div>\n",
              "  </div>\n"
            ],
            "application/vnd.google.colaboratory.intrinsic+json": {
              "type": "dataframe",
              "repr_error": "Out of range float values are not JSON compliant: nan"
            }
          },
          "metadata": {},
          "execution_count": 143
        }
      ],
      "source": [
        "non_numeric('BuildingYear')"
      ]
    },
    {
      "cell_type": "code",
      "execution_count": 144,
      "id": "656eed4f",
      "metadata": {
        "scrolled": true,
        "colab": {
          "base_uri": "https://localhost:8080/",
          "height": 53
        },
        "id": "656eed4f",
        "outputId": "f33845b8-882d-403b-94d4-0867c0940650"
      },
      "outputs": [
        {
          "output_type": "execute_result",
          "data": {
            "text/plain": [
              "Empty DataFrame\n",
              "Columns: [Type, Municipality, NearStation, Price, FloorPlan, Area, LandShape, Frontage, BuildingYear, Structure, Use, Direction, Renovation]\n",
              "Index: []"
            ],
            "text/html": [
              "\n",
              "  <div id=\"df-543982e3-50ef-4bc5-866e-8c52b44b1a4d\" class=\"colab-df-container\">\n",
              "    <div>\n",
              "<style scoped>\n",
              "    .dataframe tbody tr th:only-of-type {\n",
              "        vertical-align: middle;\n",
              "    }\n",
              "\n",
              "    .dataframe tbody tr th {\n",
              "        vertical-align: top;\n",
              "    }\n",
              "\n",
              "    .dataframe thead th {\n",
              "        text-align: right;\n",
              "    }\n",
              "</style>\n",
              "<table border=\"1\" class=\"dataframe\">\n",
              "  <thead>\n",
              "    <tr style=\"text-align: right;\">\n",
              "      <th></th>\n",
              "      <th>Type</th>\n",
              "      <th>Municipality</th>\n",
              "      <th>NearStation</th>\n",
              "      <th>Price</th>\n",
              "      <th>FloorPlan</th>\n",
              "      <th>Area</th>\n",
              "      <th>LandShape</th>\n",
              "      <th>Frontage</th>\n",
              "      <th>BuildingYear</th>\n",
              "      <th>Structure</th>\n",
              "      <th>Use</th>\n",
              "      <th>Direction</th>\n",
              "      <th>Renovation</th>\n",
              "    </tr>\n",
              "  </thead>\n",
              "  <tbody>\n",
              "  </tbody>\n",
              "</table>\n",
              "</div>\n",
              "    <div class=\"colab-df-buttons\">\n",
              "\n",
              "  <div class=\"colab-df-container\">\n",
              "    <button class=\"colab-df-convert\" onclick=\"convertToInteractive('df-543982e3-50ef-4bc5-866e-8c52b44b1a4d')\"\n",
              "            title=\"Convert this dataframe to an interactive table.\"\n",
              "            style=\"display:none;\">\n",
              "\n",
              "  <svg xmlns=\"http://www.w3.org/2000/svg\" height=\"24px\" viewBox=\"0 -960 960 960\">\n",
              "    <path d=\"M120-120v-720h720v720H120Zm60-500h600v-160H180v160Zm220 220h160v-160H400v160Zm0 220h160v-160H400v160ZM180-400h160v-160H180v160Zm440 0h160v-160H620v160ZM180-180h160v-160H180v160Zm440 0h160v-160H620v160Z\"/>\n",
              "  </svg>\n",
              "    </button>\n",
              "\n",
              "  <style>\n",
              "    .colab-df-container {\n",
              "      display:flex;\n",
              "      gap: 12px;\n",
              "    }\n",
              "\n",
              "    .colab-df-convert {\n",
              "      background-color: #E8F0FE;\n",
              "      border: none;\n",
              "      border-radius: 50%;\n",
              "      cursor: pointer;\n",
              "      display: none;\n",
              "      fill: #1967D2;\n",
              "      height: 32px;\n",
              "      padding: 0 0 0 0;\n",
              "      width: 32px;\n",
              "    }\n",
              "\n",
              "    .colab-df-convert:hover {\n",
              "      background-color: #E2EBFA;\n",
              "      box-shadow: 0px 1px 2px rgba(60, 64, 67, 0.3), 0px 1px 3px 1px rgba(60, 64, 67, 0.15);\n",
              "      fill: #174EA6;\n",
              "    }\n",
              "\n",
              "    .colab-df-buttons div {\n",
              "      margin-bottom: 4px;\n",
              "    }\n",
              "\n",
              "    [theme=dark] .colab-df-convert {\n",
              "      background-color: #3B4455;\n",
              "      fill: #D2E3FC;\n",
              "    }\n",
              "\n",
              "    [theme=dark] .colab-df-convert:hover {\n",
              "      background-color: #434B5C;\n",
              "      box-shadow: 0px 1px 3px 1px rgba(0, 0, 0, 0.15);\n",
              "      filter: drop-shadow(0px 1px 2px rgba(0, 0, 0, 0.3));\n",
              "      fill: #FFFFFF;\n",
              "    }\n",
              "  </style>\n",
              "\n",
              "    <script>\n",
              "      const buttonEl =\n",
              "        document.querySelector('#df-543982e3-50ef-4bc5-866e-8c52b44b1a4d button.colab-df-convert');\n",
              "      buttonEl.style.display =\n",
              "        google.colab.kernel.accessAllowed ? 'block' : 'none';\n",
              "\n",
              "      async function convertToInteractive(key) {\n",
              "        const element = document.querySelector('#df-543982e3-50ef-4bc5-866e-8c52b44b1a4d');\n",
              "        const dataTable =\n",
              "          await google.colab.kernel.invokeFunction('convertToInteractive',\n",
              "                                                    [key], {});\n",
              "        if (!dataTable) return;\n",
              "\n",
              "        const docLinkHtml = 'Like what you see? Visit the ' +\n",
              "          '<a target=\"_blank\" href=https://colab.research.google.com/notebooks/data_table.ipynb>data table notebook</a>'\n",
              "          + ' to learn more about interactive tables.';\n",
              "        element.innerHTML = '';\n",
              "        dataTable['output_type'] = 'display_data';\n",
              "        await google.colab.output.renderOutput(dataTable, element);\n",
              "        const docLink = document.createElement('div');\n",
              "        docLink.innerHTML = docLinkHtml;\n",
              "        element.appendChild(docLink);\n",
              "      }\n",
              "    </script>\n",
              "  </div>\n",
              "\n",
              "\n",
              "    </div>\n",
              "  </div>\n"
            ],
            "application/vnd.google.colaboratory.intrinsic+json": {
              "type": "dataframe",
              "repr_error": "Out of range float values are not JSON compliant: nan"
            }
          },
          "metadata": {},
          "execution_count": 144
        }
      ],
      "source": [
        "non_numeric('Price')"
      ]
    },
    {
      "cell_type": "markdown",
      "id": "035ad854",
      "metadata": {
        "id": "035ad854"
      },
      "source": [
        "The results show fortunately in those variables, we just have number nothing else. However, we can see the sum of those variables for double check."
      ]
    },
    {
      "cell_type": "code",
      "execution_count": 145,
      "id": "6bade605",
      "metadata": {
        "colab": {
          "base_uri": "https://localhost:8080/"
        },
        "id": "6bade605",
        "outputId": "3e4d26b0-b548-4af8-b146-71994ea968fc"
      },
      "outputs": [
        {
          "output_type": "stream",
          "name": "stdout",
          "text": [
            "Area 470260\n",
            "Frontage 26427.699999999997\n",
            "NearStation 12597.0\n",
            "BuildingYear 5488313.0\n",
            "Price 1424412020000\n"
          ]
        }
      ],
      "source": [
        "for i in range(len(num_list)):\n",
        "    var_sum = df.loc[: , num_list[i]].sum()\n",
        "    print(num_list[i] , var_sum)"
      ]
    },
    {
      "cell_type": "markdown",
      "id": "15889476",
      "metadata": {
        "id": "15889476"
      },
      "source": [
        "<hr>"
      ]
    },
    {
      "cell_type": "markdown",
      "id": "4413d3fe",
      "metadata": {
        "id": "4413d3fe"
      },
      "source": [
        "## 7 - Handle Categorical Variables"
      ]
    },
    {
      "cell_type": "markdown",
      "id": "ab275d6f",
      "metadata": {
        "id": "ab275d6f"
      },
      "source": [
        "First of all, I declare all categorical variables. These variables are: “Province”, “City”, “Type”, “LandShape”, “Structure”, “FloorPlan”, ‘Direction”, “Use”, “Renovation”."
      ]
    },
    {
      "cell_type": "code",
      "execution_count": 146,
      "id": "2b270a3e",
      "metadata": {
        "id": "2b270a3e"
      },
      "outputs": [],
      "source": [
        "cat_list = ['Type', 'Municipality', 'FloorPlan', 'LandShape', 'Structure', 'Direction', 'Use', 'Renovation']"
      ]
    },
    {
      "cell_type": "markdown",
      "id": "c9ae905e",
      "metadata": {
        "id": "c9ae905e"
      },
      "source": [
        "Then, we must make sure about the possible range for each of them. They must be the same with data documentation."
      ]
    },
    {
      "cell_type": "markdown",
      "id": "6dea456c",
      "metadata": {
        "id": "6dea456c"
      },
      "source": [
        "> ### Type"
      ]
    },
    {
      "cell_type": "code",
      "execution_count": 147,
      "id": "8f671c44",
      "metadata": {
        "colab": {
          "base_uri": "https://localhost:8080/"
        },
        "id": "8f671c44",
        "outputId": "558416f8-bc96-42a6-f6f1-3d815e9196f4"
      },
      "outputs": [
        {
          "output_type": "stream",
          "name": "stdout",
          "text": [
            "['Residential Land(Land and Building)']\n"
          ]
        }
      ],
      "source": [
        " print(df['Type'].unique())"
      ]
    },
    {
      "cell_type": "markdown",
      "id": "ba6bc534",
      "metadata": {
        "id": "ba6bc534"
      },
      "source": [
        "> ### Municipality"
      ]
    },
    {
      "cell_type": "code",
      "execution_count": 148,
      "id": "b1fe9288",
      "metadata": {
        "colab": {
          "base_uri": "https://localhost:8080/"
        },
        "id": "b1fe9288",
        "outputId": "93420781-064e-423c-c82d-29549cf81761"
      },
      "outputs": [
        {
          "output_type": "stream",
          "name": "stdout",
          "text": [
            "['Chiyoda Ward' 'Chuo Ward' 'Minato Ward' 'Shinjuku Ward' 'Bunkyo Ward']\n"
          ]
        }
      ],
      "source": [
        " print(df['Municipality'].unique())"
      ]
    },
    {
      "cell_type": "code",
      "execution_count": 149,
      "id": "d0ae89d8",
      "metadata": {
        "colab": {
          "base_uri": "https://localhost:8080/"
        },
        "id": "d0ae89d8",
        "outputId": "89e7aa9b-6bc0-47d0-8dee-c1831d04de9a"
      },
      "outputs": [
        {
          "output_type": "stream",
          "name": "stdout",
          "text": [
            "Municipality\n",
            "Shinjuku Ward    1015\n",
            "Minato Ward       660\n",
            "Chuo Ward         581\n",
            "Chiyoda Ward      434\n",
            "Bunkyo Ward        71\n",
            "Name: count, dtype: int64\n"
          ]
        }
      ],
      "source": [
        " print(df['Municipality'].value_counts())"
      ]
    },
    {
      "cell_type": "markdown",
      "id": "b8e04fec",
      "metadata": {
        "id": "b8e04fec"
      },
      "source": [
        "> ### FloorPlan"
      ]
    },
    {
      "cell_type": "code",
      "execution_count": 150,
      "id": "99bf99f7",
      "metadata": {
        "colab": {
          "base_uri": "https://localhost:8080/"
        },
        "id": "99bf99f7",
        "outputId": "58009364-72d6-4e42-9bb4-41235074292f"
      },
      "outputs": [
        {
          "output_type": "stream",
          "name": "stdout",
          "text": [
            "['1K']\n"
          ]
        }
      ],
      "source": [
        "print(df['FloorPlan'].unique())"
      ]
    },
    {
      "cell_type": "markdown",
      "id": "e48dee58",
      "metadata": {
        "id": "e48dee58"
      },
      "source": [
        "> ### LandShape"
      ]
    },
    {
      "cell_type": "code",
      "execution_count": 151,
      "id": "0f447b4e",
      "metadata": {
        "colab": {
          "base_uri": "https://localhost:8080/"
        },
        "id": "0f447b4e",
        "outputId": "9a0ca81f-a838-40fa-b4ff-f20d3a0fe750"
      },
      "outputs": [
        {
          "output_type": "stream",
          "name": "stdout",
          "text": [
            "['Trapezoidal Shaped' 'Rectangular Shaped' 'Semi-rectangular Shaped'\n",
            " 'Semi-trapezoidal Shaped' 'Irregular Shaped' 'Semi-shaped'\n",
            " 'Semi-square Shaped' 'Flag-shaped etc.' 'Square Shaped' 'Other LandShape']\n"
          ]
        }
      ],
      "source": [
        "print(df['LandShape'].unique())"
      ]
    },
    {
      "cell_type": "code",
      "execution_count": 152,
      "id": "d5324128",
      "metadata": {
        "colab": {
          "base_uri": "https://localhost:8080/"
        },
        "id": "d5324128",
        "outputId": "5d304983-a182-4f5d-fce8-edea20f8d405"
      },
      "outputs": [
        {
          "output_type": "stream",
          "name": "stdout",
          "text": [
            "LandShape\n",
            "Semi-rectangular Shaped    1014\n",
            "Rectangular Shaped          731\n",
            "Irregular Shaped            423\n",
            "Semi-trapezoidal Shaped     197\n",
            "Semi-square Shaped          157\n",
            "Semi-shaped                 111\n",
            "Trapezoidal Shaped           78\n",
            "Flag-shaped etc.             28\n",
            "Square Shaped                21\n",
            "Other LandShape               1\n",
            "Name: count, dtype: int64\n"
          ]
        }
      ],
      "source": [
        " print(df['LandShape'].value_counts())"
      ]
    },
    {
      "cell_type": "markdown",
      "id": "45b17197",
      "metadata": {
        "id": "45b17197"
      },
      "source": [
        "> ### Structure"
      ]
    },
    {
      "cell_type": "code",
      "execution_count": 153,
      "id": "5e1eb6d1",
      "metadata": {
        "colab": {
          "base_uri": "https://localhost:8080/"
        },
        "id": "5e1eb6d1",
        "outputId": "446f162b-3256-4310-e26d-a9a305f26341"
      },
      "outputs": [
        {
          "output_type": "stream",
          "name": "stdout",
          "text": [
            "['S' 'RC' 'SRC' 'W' 'LS' 'S, LS' 'B' 'SRC, RC' 'S, W' 'RC, W' 'RC, S'\n",
            " 'W, B']\n"
          ]
        }
      ],
      "source": [
        "print(df['Structure'].unique())"
      ]
    },
    {
      "cell_type": "markdown",
      "id": "7ac09245",
      "metadata": {
        "id": "7ac09245"
      },
      "source": [
        "All of them are correct and based on data documentation. However, some of them have two or more types of structure, and because of reduced-dimensionality, I just consider the first one."
      ]
    },
    {
      "cell_type": "code",
      "execution_count": 154,
      "id": "38936de8",
      "metadata": {
        "id": "38936de8"
      },
      "outputs": [],
      "source": [
        "df['Structure'] = df['Structure'].apply(lambda x: x.split(',')[0])"
      ]
    },
    {
      "cell_type": "code",
      "execution_count": 155,
      "id": "790379e4",
      "metadata": {
        "colab": {
          "base_uri": "https://localhost:8080/"
        },
        "id": "790379e4",
        "outputId": "50242297-d605-4b80-c977-b30139649ab2"
      },
      "outputs": [
        {
          "output_type": "stream",
          "name": "stdout",
          "text": [
            "Structure\n",
            "RC     1014\n",
            "W       795\n",
            "S       551\n",
            "SRC     348\n",
            "LS       50\n",
            "B         3\n",
            "Name: count, dtype: int64\n"
          ]
        }
      ],
      "source": [
        " print(df['Structure'].value_counts())"
      ]
    },
    {
      "cell_type": "markdown",
      "id": "c0fd5742",
      "metadata": {
        "id": "c0fd5742"
      },
      "source": [
        "> ### Direction"
      ]
    },
    {
      "cell_type": "code",
      "execution_count": 156,
      "id": "f27574c1",
      "metadata": {
        "colab": {
          "base_uri": "https://localhost:8080/"
        },
        "id": "f27574c1",
        "outputId": "a0505f9b-f241-415e-cb79-3fa3b126ffae"
      },
      "outputs": [
        {
          "output_type": "stream",
          "name": "stdout",
          "text": [
            "['Northwest' 'Southwest' 'South' 'Northeast' 'East' 'Southeast' 'West'\n",
            " 'North' 'No facing road']\n"
          ]
        }
      ],
      "source": [
        "print(df['Direction'].unique())"
      ]
    },
    {
      "cell_type": "code",
      "execution_count": 157,
      "id": "47d96647",
      "metadata": {
        "colab": {
          "base_uri": "https://localhost:8080/"
        },
        "id": "47d96647",
        "outputId": "6bdade49-f30e-408e-e83f-378193e591e9"
      },
      "outputs": [
        {
          "output_type": "stream",
          "name": "stdout",
          "text": [
            "Direction\n",
            "Northwest         382\n",
            "Southwest         373\n",
            "Southeast         371\n",
            "West              344\n",
            "Northeast         335\n",
            "South             329\n",
            "East              307\n",
            "North             304\n",
            "No facing road     16\n",
            "Name: count, dtype: int64\n"
          ]
        }
      ],
      "source": [
        " print(df['Direction'].value_counts())"
      ]
    },
    {
      "cell_type": "markdown",
      "id": "8cc6658c",
      "metadata": {
        "id": "8cc6658c"
      },
      "source": [
        "> ### Use"
      ]
    },
    {
      "cell_type": "code",
      "execution_count": 158,
      "id": "37805e33",
      "metadata": {
        "colab": {
          "base_uri": "https://localhost:8080/"
        },
        "id": "37805e33",
        "outputId": "27627ae6-9f03-43d4-a7bd-2b62e11f0f73"
      },
      "outputs": [
        {
          "output_type": "stream",
          "name": "stdout",
          "text": [
            "['Office, Shop' 'Housing Complex, Office' 'House, Office, Workshop'\n",
            " 'House, Office, Shop' 'Other' 'Office, Warehouse' 'Parking Lot'\n",
            " 'Office, Parking Lot' 'Housing Complex, Office, Shop' 'House' 'Office'\n",
            " 'Housing Complex' 'Housing Complex, Shop' 'House, Shop' 'Warehouse, Shop'\n",
            " 'Housing Complex, Office, Warehouse, Shop' 'House, Workshop, Shop'\n",
            " 'Warehouse' 'House, Office' 'Office, Warehouse, Parking Lot'\n",
            " 'House, Factory, Office, Shop' 'House, Office, Other' 'Shop'\n",
            " 'House, Office, Warehouse, Shop' 'Office, Other'\n",
            " 'Office, Warehouse, Shop' 'House, Warehouse, Shop, Other' 'Workshop'\n",
            " 'House, Office, Parking Lot' 'Office, Workshop, Warehouse' 'Factory'\n",
            " 'House, Warehouse' 'House, Housing Complex, Factory, Warehouse'\n",
            " 'Office, Parking Lot, Shop' 'House, Factory, Office'\n",
            " 'Housing Complex, Office, Warehouse, Parking Lot'\n",
            " 'House, Office, Warehouse' 'House, Workshop' 'House, Office, Shop, Other'\n",
            " 'House, Parking Lot' 'House, Parking Lot, Shop'\n",
            " 'Housing Complex, Parking Lot' 'Housing Complex, Warehouse'\n",
            " 'House, Factory' 'Warehouse, Parking Lot' 'Office, Warehouse, Other'\n",
            " 'Housing Complex, Office, Parking Lot, Shop'\n",
            " 'House, Office, Parking Lot, Shop' 'House, Other'\n",
            " 'House, Warehouse, Shop' 'Shop, Other' 'House, Workshop, Warehouse, Shop'\n",
            " 'House, Housing Complex, Office, Shop'\n",
            " 'Housing Complex, Office, Warehouse' 'Office, Shop, Other'\n",
            " 'House, Office, Warehouse, Parking Lot' 'Housing Complex, Other'\n",
            " 'Workshop, Warehouse, Parking Lot' 'Factory, Office, Warehouse'\n",
            " 'Factory, Office' 'House, Housing Complex, Factory, Office'\n",
            " 'House, Workshop, Warehouse' 'Office, Workshop, Shop'\n",
            " 'Housing Complex, Workshop' 'Office, Workshop' 'House, Shop, Other'\n",
            " 'House, Office, Workshop, Shop'\n",
            " 'House, Housing Complex, Office, Warehouse'\n",
            " 'Housing Complex, Office, Workshop' 'House, Housing Complex, Office'\n",
            " 'House, Warehouse, Other' 'House, Housing Complex, Shop'\n",
            " 'House, Housing Complex, Workshop'\n",
            " 'House, Housing Complex, Factory, Office, Workshop, Warehouse'\n",
            " 'Housing Complex, Factory, Office, Parking Lot'\n",
            " 'House, Housing Complex, Parking Lot'\n",
            " 'House, Warehouse, Parking Lot, Shop' 'Housing Complex, Factory, Office'\n",
            " 'Office, Parking Lot, Other' 'Housing Complex, Office, Parking Lot'\n",
            " 'Housing Complex, Parking Lot, Shop'\n",
            " 'Housing Complex, Workshop, Warehouse'\n",
            " 'Housing Complex, Office, Warehouse, Parking Lot, Shop'\n",
            " 'Housing Complex, Factory'\n",
            " 'Housing Complex, Office, Warehouse, Shop, Other'\n",
            " 'House, Housing Complex, Workshop, Shop'\n",
            " 'Housing Complex, Warehouse, Parking Lot' 'House, Housing Complex'\n",
            " 'Parking Lot, Shop' 'Housing Complex, Warehouse, Shop'\n",
            " 'House, Housing Complex, Office, Workshop' 'Parking Lot, Other'\n",
            " 'Workshop, Shop' 'House, Warehouse, Parking Lot'\n",
            " 'House, Office, Parking Lot, Shop, Other'\n",
            " 'House, Housing Complex, Parking Lot, Other'\n",
            " 'House, Parking Lot, Shop, Other' 'Office, Warehouse, Parking Lot, Shop'\n",
            " 'House, Office, Parking Lot, Other' 'Factory, Workshop'\n",
            " 'Housing Complex, Office, Other'\n",
            " 'House, Office, Warehouse, Parking Lot, Shop' 'Workshop, Warehouse'\n",
            " 'Housing Complex, Factory, Shop'\n",
            " 'House, Workshop, Warehouse, Parking Lot'\n",
            " 'House, Office, Warehouse, Shop, Other' 'Factory, Office, Other'\n",
            " 'Office, Workshop, Warehouse, Parking Lot'\n",
            " 'Housing Complex, Workshop, Shop' 'Office, Parking Lot, Shop, Other'\n",
            " 'House, Housing Complex, Office, Warehouse, Parking Lot']\n"
          ]
        }
      ],
      "source": [
        "print(df['Use'].unique())"
      ]
    },
    {
      "cell_type": "markdown",
      "id": "fb1a9dac",
      "metadata": {
        "id": "fb1a9dac"
      },
      "source": [
        "All of them are correct and based on data documentation. However, some of them have two or more types of use, and because of reduced-dimensionality, I just consider the first one."
      ]
    },
    {
      "cell_type": "code",
      "execution_count": 159,
      "id": "3ef9769c",
      "metadata": {
        "id": "3ef9769c"
      },
      "outputs": [],
      "source": [
        "df['Use'] = df['Use'].apply(lambda x: x.split(',')[0])"
      ]
    },
    {
      "cell_type": "code",
      "execution_count": 160,
      "id": "20323ba3",
      "metadata": {
        "colab": {
          "base_uri": "https://localhost:8080/"
        },
        "id": "20323ba3",
        "outputId": "87810e74-c026-4e34-db1d-754443bf969b"
      },
      "outputs": [
        {
          "output_type": "stream",
          "name": "stdout",
          "text": [
            "Use\n",
            "House              1300\n",
            "Office              705\n",
            "Housing Complex     559\n",
            "Shop                117\n",
            "Other                43\n",
            "Warehouse            18\n",
            "Factory               9\n",
            "Parking Lot           6\n",
            "Workshop              4\n",
            "Name: count, dtype: int64\n"
          ]
        }
      ],
      "source": [
        "print(df['Use'].value_counts())"
      ]
    },
    {
      "cell_type": "markdown",
      "id": "8d84addf",
      "metadata": {
        "id": "8d84addf"
      },
      "source": [
        "> ### Renovation"
      ]
    },
    {
      "cell_type": "code",
      "execution_count": 161,
      "id": "03169931",
      "metadata": {
        "colab": {
          "base_uri": "https://localhost:8080/"
        },
        "id": "03169931",
        "outputId": "c9ec43da-57c0-4b8b-c742-49c02cce0ddb"
      },
      "outputs": [
        {
          "output_type": "stream",
          "name": "stdout",
          "text": [
            "['Not yet']\n"
          ]
        }
      ],
      "source": [
        "print(df['Renovation'].unique())"
      ]
    },
    {
      "cell_type": "markdown",
      "id": "3d4e82a0",
      "metadata": {
        "id": "3d4e82a0"
      },
      "source": [
        "<hr>"
      ]
    },
    {
      "cell_type": "markdown",
      "id": "7f6a3425",
      "metadata": {
        "id": "7f6a3425"
      },
      "source": [
        "# Check Point"
      ]
    },
    {
      "cell_type": "code",
      "execution_count": 162,
      "id": "e5ef46a5",
      "metadata": {
        "id": "e5ef46a5"
      },
      "outputs": [],
      "source": [
        "df = df.reset_index(drop=True)"
      ]
    },
    {
      "cell_type": "code",
      "execution_count": 163,
      "id": "2c5f6f97",
      "metadata": {
        "id": "2c5f6f97"
      },
      "outputs": [],
      "source": [
        "import pickle\n",
        "with open('Dataset/df_preprocessed.pickle', 'wb') as file:\n",
        "    pickle.dump(df, file)"
      ]
    }
  ],
  "metadata": {
    "kernelspec": {
      "display_name": "Python 3 (ipykernel)",
      "language": "python",
      "name": "python3"
    },
    "language_info": {
      "codemirror_mode": {
        "name": "ipython",
        "version": 3
      },
      "file_extension": ".py",
      "mimetype": "text/x-python",
      "name": "python",
      "nbconvert_exporter": "python",
      "pygments_lexer": "ipython3",
      "version": "3.9.13"
    },
    "colab": {
      "provenance": [],
      "include_colab_link": true
    }
  },
  "nbformat": 4,
  "nbformat_minor": 5
}
