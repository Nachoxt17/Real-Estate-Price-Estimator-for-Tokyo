{
  "cells": [
    {
      "cell_type": "markdown",
      "metadata": {
        "id": "view-in-github",
        "colab_type": "text"
      },
      "source": [
        "<a href=\"https://colab.research.google.com/github/Nachoxt17/Real-Estate-Price-Estimator-for-Tokyo/blob/main/02_Exploratory_Data_Analysis.ipynb\" target=\"_parent\"><img src=\"https://colab.research.google.com/assets/colab-badge.svg\" alt=\"Open In Colab\"/></a>"
      ]
    },
    {
      "cell_type": "markdown",
      "id": "d6d159a6",
      "metadata": {
        "id": "d6d159a6"
      },
      "source": [
        "## 1. import packages and dataset"
      ]
    },
    {
      "cell_type": "markdown",
      "id": "946b93bd",
      "metadata": {
        "id": "946b93bd"
      },
      "source": [
        "First, I should import necessary packages and also the cleaned dataset."
      ]
    },
    {
      "cell_type": "code",
      "source": [
        "!pip install sweetviz"
      ],
      "metadata": {
        "colab": {
          "base_uri": "https://localhost:8080/"
        },
        "id": "fsNvPwjm_QWK",
        "outputId": "9dba1288-23ff-4b12-abc9-a24a4e3e3c51"
      },
      "id": "fsNvPwjm_QWK",
      "execution_count": null,
      "outputs": [
        {
          "output_type": "stream",
          "name": "stdout",
          "text": [
            "Requirement already satisfied: sweetviz in /usr/local/lib/python3.11/dist-packages (2.3.1)\n",
            "Requirement already satisfied: pandas!=1.0.0,!=1.0.1,!=1.0.2,>=0.25.3 in /usr/local/lib/python3.11/dist-packages (from sweetviz) (2.2.2)\n",
            "Requirement already satisfied: numpy>=1.16.0 in /usr/local/lib/python3.11/dist-packages (from sweetviz) (2.0.2)\n",
            "Requirement already satisfied: matplotlib>=3.1.3 in /usr/local/lib/python3.11/dist-packages (from sweetviz) (3.10.0)\n",
            "Requirement already satisfied: tqdm>=4.43.0 in /usr/local/lib/python3.11/dist-packages (from sweetviz) (4.67.1)\n",
            "Requirement already satisfied: scipy>=1.3.2 in /usr/local/lib/python3.11/dist-packages (from sweetviz) (1.15.2)\n",
            "Requirement already satisfied: jinja2>=2.11.1 in /usr/local/lib/python3.11/dist-packages (from sweetviz) (3.1.6)\n",
            "Requirement already satisfied: importlib-resources>=1.2.0 in /usr/local/lib/python3.11/dist-packages (from sweetviz) (6.5.2)\n",
            "Requirement already satisfied: MarkupSafe>=2.0 in /usr/local/lib/python3.11/dist-packages (from jinja2>=2.11.1->sweetviz) (3.0.2)\n",
            "Requirement already satisfied: contourpy>=1.0.1 in /usr/local/lib/python3.11/dist-packages (from matplotlib>=3.1.3->sweetviz) (1.3.2)\n",
            "Requirement already satisfied: cycler>=0.10 in /usr/local/lib/python3.11/dist-packages (from matplotlib>=3.1.3->sweetviz) (0.12.1)\n",
            "Requirement already satisfied: fonttools>=4.22.0 in /usr/local/lib/python3.11/dist-packages (from matplotlib>=3.1.3->sweetviz) (4.57.0)\n",
            "Requirement already satisfied: kiwisolver>=1.3.1 in /usr/local/lib/python3.11/dist-packages (from matplotlib>=3.1.3->sweetviz) (1.4.8)\n",
            "Requirement already satisfied: packaging>=20.0 in /usr/local/lib/python3.11/dist-packages (from matplotlib>=3.1.3->sweetviz) (24.2)\n",
            "Requirement already satisfied: pillow>=8 in /usr/local/lib/python3.11/dist-packages (from matplotlib>=3.1.3->sweetviz) (11.2.1)\n",
            "Requirement already satisfied: pyparsing>=2.3.1 in /usr/local/lib/python3.11/dist-packages (from matplotlib>=3.1.3->sweetviz) (3.2.3)\n",
            "Requirement already satisfied: python-dateutil>=2.7 in /usr/local/lib/python3.11/dist-packages (from matplotlib>=3.1.3->sweetviz) (2.9.0.post0)\n",
            "Requirement already satisfied: pytz>=2020.1 in /usr/local/lib/python3.11/dist-packages (from pandas!=1.0.0,!=1.0.1,!=1.0.2,>=0.25.3->sweetviz) (2025.2)\n",
            "Requirement already satisfied: tzdata>=2022.7 in /usr/local/lib/python3.11/dist-packages (from pandas!=1.0.0,!=1.0.1,!=1.0.2,>=0.25.3->sweetviz) (2025.2)\n",
            "Requirement already satisfied: six>=1.5 in /usr/local/lib/python3.11/dist-packages (from python-dateutil>=2.7->matplotlib>=3.1.3->sweetviz) (1.17.0)\n"
          ]
        }
      ]
    },
    {
      "cell_type": "code",
      "execution_count": null,
      "id": "3d9811c9",
      "metadata": {
        "id": "3d9811c9",
        "colab": {
          "base_uri": "https://localhost:8080/"
        },
        "outputId": "8316e7ee-53c1-46ce-9170-0bf9be51fdcb"
      },
      "outputs": [
        {
          "output_type": "stream",
          "name": "stdout",
          "text": [
            "Mounted at /content/drive\n"
          ]
        }
      ],
      "source": [
        "import pandas as pd\n",
        "import numpy as np\n",
        "import sweetviz as sv\n",
        "import pickle\n",
        "from google.colab import drive\n",
        "drive.mount('/content/drive')\n",
        "\n",
        "import seaborn as sns\n",
        "\n",
        "import matplotlib.pyplot as plt\n",
        "import matplotlib.mlab as mlab\n",
        "import matplotlib\n",
        "plt.style.use('ggplot')\n",
        "from matplotlib.pyplot import figure\n",
        "\n",
        "%matplotlib inline"
      ]
    },
    {
      "cell_type": "code",
      "source": [
        "with open('Dataset/df_preprocessed.pickle', 'rb') as file:\n",
        "    df = pickle.load(file)\n",
        "\n",
        "df.head(5)"
      ],
      "metadata": {
        "id": "Bvu-I6-FIYaJ"
      },
      "id": "Bvu-I6-FIYaJ",
      "execution_count": null,
      "outputs": []
    },
    {
      "cell_type": "markdown",
      "id": "beff313e",
      "metadata": {
        "id": "beff313e"
      },
      "source": [
        "<hr>"
      ]
    },
    {
      "cell_type": "markdown",
      "id": "0afdb29f",
      "metadata": {
        "id": "0afdb29f"
      },
      "source": [
        "## 2. Run SweetViz package"
      ]
    },
    {
      "cell_type": "markdown",
      "id": "a39cd610",
      "metadata": {
        "id": "a39cd610"
      },
      "source": [
        "Then I activated the SweetViz library and prepared the environment for statistical analysis.  This library gives us all important information about descriptive statistics analysis."
      ]
    },
    {
      "cell_type": "code",
      "source": [
        "analyze_report = sv.analyze(df)\n",
        "analyze_report.show_html('Statistical_Analysis.html', open_browser=False)"
      ],
      "metadata": {
        "id": "KmpKSVsgIalX"
      },
      "id": "KmpKSVsgIalX",
      "execution_count": null,
      "outputs": []
    },
    {
      "cell_type": "markdown",
      "id": "ea4ad452",
      "metadata": {
        "id": "ea4ad452"
      },
      "source": [
        "<hr>"
      ]
    },
    {
      "cell_type": "markdown",
      "id": "f55c5d65",
      "metadata": {
        "id": "f55c5d65"
      },
      "source": [
        "## 3. Qualitative Variables"
      ]
    },
    {
      "cell_type": "markdown",
      "id": "b5d606d5",
      "metadata": {
        "id": "b5d606d5"
      },
      "source": [
        "Here we analyze qualitative variables, and we see each label in every single variable account for the highest frequency. Then, we can see the statistical interpretation for categorical variables:\n",
        "<br><br>\n",
        "Please read the report file."
      ]
    },
    {
      "cell_type": "markdown",
      "id": "8f1219b5",
      "metadata": {
        "id": "8f1219b5"
      },
      "source": [
        "<hr>"
      ]
    },
    {
      "cell_type": "markdown",
      "id": "3d389ea4",
      "metadata": {
        "id": "3d389ea4"
      },
      "source": [
        "## 4. Quantitative Variables"
      ]
    },
    {
      "cell_type": "markdown",
      "id": "e41a9927",
      "metadata": {
        "id": "e41a9927"
      },
      "source": [
        "Now, let’s analyze descriptive statics for quantitative variables. In this section we can find central tendency, dispersion, and shape measurements. Then we draw the distribution plot to compare with normal distribution."
      ]
    },
    {
      "cell_type": "code",
      "execution_count": null,
      "id": "4cbfb023",
      "metadata": {
        "id": "4cbfb023"
      },
      "outputs": [],
      "source": [
        "def kde_plot(x):\n",
        "    import seaborn as sns\n",
        "    import matplotlib.pyplot as plt\n",
        "\n",
        "    plt.figure(figsize = (8,3))\n",
        "    sns.distplot(df[x], kde_kws={\"lw\": 5}, hist_kws = {'alpha': 0.25})\n",
        "    sns.despine(left = True)\n",
        "\n",
        "    mean = df[x].mean()\n",
        "    median = df[x].median()\n",
        "\n",
        "    plt.axvline(mean, color ='black', linestyle ='dashed')\n",
        "    plt.axvline(median, color ='green', linestyle ='solid')\n",
        "    plt.xlabel('')\n",
        "    plt.ylabel('')\n",
        "\n",
        "    return plt.show()"
      ]
    },
    {
      "cell_type": "markdown",
      "id": "0bac2ef1",
      "metadata": {
        "id": "0bac2ef1"
      },
      "source": [
        "Now we can see the statistical interpretation for quantitative variables:"
      ]
    },
    {
      "cell_type": "code",
      "execution_count": null,
      "id": "f777c215",
      "metadata": {
        "id": "f777c215"
      },
      "outputs": [],
      "source": [
        "kde_plot('Area')"
      ]
    },
    {
      "cell_type": "code",
      "execution_count": null,
      "id": "b824de13",
      "metadata": {
        "id": "b824de13"
      },
      "outputs": [],
      "source": [
        "kde_plot('Frontage')"
      ]
    },
    {
      "cell_type": "code",
      "execution_count": null,
      "id": "2154da83",
      "metadata": {
        "id": "2154da83"
      },
      "outputs": [],
      "source": [
        "kde_plot('NearStation')"
      ]
    },
    {
      "cell_type": "code",
      "execution_count": null,
      "id": "7425da1a",
      "metadata": {
        "id": "7425da1a"
      },
      "outputs": [],
      "source": [
        "kde_plot('BuildingYear')"
      ]
    },
    {
      "cell_type": "code",
      "execution_count": null,
      "id": "3344c831",
      "metadata": {
        "id": "3344c831"
      },
      "outputs": [],
      "source": [
        "kde_plot('Price')"
      ]
    },
    {
      "cell_type": "markdown",
      "id": "9093542c",
      "metadata": {
        "id": "9093542c"
      },
      "source": [
        "<hr>"
      ]
    },
    {
      "cell_type": "code",
      "execution_count": null,
      "id": "c7ff00b7",
      "metadata": {
        "id": "c7ff00b7"
      },
      "outputs": [],
      "source": [
        "#minimum Area\n",
        "df[df['Area'] == df['Area'].min()]"
      ]
    },
    {
      "cell_type": "code",
      "execution_count": null,
      "id": "99bb2ead",
      "metadata": {
        "id": "99bb2ead"
      },
      "outputs": [],
      "source": [
        "#maximum Area\n",
        "df[df['Area'] == df['Area'].max()]"
      ]
    },
    {
      "cell_type": "markdown",
      "id": "52f83e33",
      "metadata": {
        "id": "52f83e33"
      },
      "source": [
        "<hr>"
      ]
    },
    {
      "cell_type": "code",
      "execution_count": null,
      "id": "51792207",
      "metadata": {
        "id": "51792207"
      },
      "outputs": [],
      "source": [
        "#minimum Frontage\n",
        "df[df['Frontage'] == df['Frontage'].min()]"
      ]
    },
    {
      "cell_type": "code",
      "execution_count": null,
      "id": "3f26285c",
      "metadata": {
        "id": "3f26285c"
      },
      "outputs": [],
      "source": [
        "#maximum Frontage\n",
        "df[df['Frontage'] == df['Frontage'].max()]"
      ]
    },
    {
      "cell_type": "markdown",
      "id": "aa0d8704",
      "metadata": {
        "id": "aa0d8704"
      },
      "source": [
        "<hr>"
      ]
    },
    {
      "cell_type": "code",
      "execution_count": null,
      "id": "66cba072",
      "metadata": {
        "id": "66cba072"
      },
      "outputs": [],
      "source": [
        "#minimum NearStation\n",
        "df[df['NearStation'] == df['NearStation'].min()].head(3)"
      ]
    },
    {
      "cell_type": "code",
      "execution_count": null,
      "id": "1cc557d1",
      "metadata": {
        "id": "1cc557d1"
      },
      "outputs": [],
      "source": [
        "#maximum NearStation\n",
        "df[df['NearStation'] == df['NearStation'].max()].head(3)"
      ]
    },
    {
      "cell_type": "markdown",
      "id": "febda44f",
      "metadata": {
        "id": "febda44f"
      },
      "source": [
        "<hr>"
      ]
    },
    {
      "cell_type": "code",
      "execution_count": null,
      "id": "e4918ae1",
      "metadata": {
        "id": "e4918ae1"
      },
      "outputs": [],
      "source": [
        "#minimum BuildingYear\n",
        "df[df['BuildingYear'] == df['BuildingYear'].min()].head(3)"
      ]
    },
    {
      "cell_type": "code",
      "execution_count": null,
      "id": "b1cec1d0",
      "metadata": {
        "id": "b1cec1d0"
      },
      "outputs": [],
      "source": [
        "#maximum BuildingYear\n",
        "df[df['BuildingYear'] == df['BuildingYear'].max()].head(3)"
      ]
    },
    {
      "cell_type": "markdown",
      "id": "cda1bd55",
      "metadata": {
        "id": "cda1bd55"
      },
      "source": [
        "<hr>"
      ]
    },
    {
      "cell_type": "code",
      "execution_count": null,
      "id": "850c0daf",
      "metadata": {
        "id": "850c0daf"
      },
      "outputs": [],
      "source": [
        "#minimum Price\n",
        "df[df['Price'] == df['Price'].min()]"
      ]
    },
    {
      "cell_type": "code",
      "execution_count": null,
      "id": "a631ae32",
      "metadata": {
        "id": "a631ae32"
      },
      "outputs": [],
      "source": [
        "#maximum Price\n",
        "df[df['Price'] == df['Price'].max()]"
      ]
    },
    {
      "cell_type": "markdown",
      "id": "913d1864",
      "metadata": {
        "id": "913d1864"
      },
      "source": [
        "<hr>"
      ]
    },
    {
      "cell_type": "markdown",
      "id": "2a9cf4cc",
      "metadata": {
        "id": "2a9cf4cc"
      },
      "source": [
        "## 5. Handle Outliers"
      ]
    },
    {
      "cell_type": "markdown",
      "id": "6f937d6f",
      "metadata": {
        "id": "6f937d6f"
      },
      "source": [
        "In the previous sections, we saw some variables have outliers, and before going further we should handle them. The big outliers are in “Price” and when we see statistical analysis of Price, we realize this variable in correlated Area. So, we can run feature engineering to handle price’s outlier. To begin with, I work on price and area. For doing this, I create a new feature as price per area:"
      ]
    },
    {
      "cell_type": "code",
      "execution_count": null,
      "id": "7713f6a5",
      "metadata": {
        "id": "7713f6a5"
      },
      "outputs": [],
      "source": [
        "df['Price_per_Area'] = df['Price'] / df['Area']\n",
        "df.head(3)"
      ]
    },
    {
      "cell_type": "markdown",
      "id": "9bf6fcef",
      "metadata": {
        "id": "9bf6fcef"
      },
      "source": [
        "now, let’s see the distribution shape of price_per_area"
      ]
    },
    {
      "cell_type": "code",
      "execution_count": null,
      "id": "bbff3943",
      "metadata": {
        "scrolled": true,
        "id": "bbff3943"
      },
      "outputs": [],
      "source": [
        "plt.figure(figsize = (8,3))\n",
        "sns.distplot(df['Price_per_Area'], kde_kws={\"lw\": 5}, hist_kws = {'alpha': 0.25})\n",
        "sns.despine(left = True)\n",
        "\n",
        "mean = df['Price_per_Area'].mean()\n",
        "median = df['Price_per_Area'].median()\n",
        "\n",
        "plt.axvline(mean, color ='black', linestyle ='dashed')\n",
        "plt.axvline(median, color ='green', linestyle ='solid')\n",
        "plt.xlabel('')\n",
        "plt.ylabel('')\n",
        "\n",
        "plt.show()"
      ]
    },
    {
      "cell_type": "markdown",
      "id": "54e004f8",
      "metadata": {
        "id": "54e004f8"
      },
      "source": [
        "The shape shows it’s extremely right skewed and we have big outlier. So, for handling outlier, we cannot use z-score, because this variable does not stick to normal distribution. Instead, we use MAD (median absolute deviation) technique that is a very robust method for this condition. First of all, I searched on the internet and found the median price per square feet in Tokyo."
      ]
    },
    {
      "cell_type": "code",
      "execution_count": null,
      "id": "4f8a563a",
      "metadata": {
        "id": "4f8a563a"
      },
      "outputs": [],
      "source": [
        "median_prices = {\"Tokyo\": 951000}"
      ]
    },
    {
      "cell_type": "markdown",
      "id": "773bb008",
      "metadata": {
        "id": "773bb008"
      },
      "source": [
        "Now, I filter dataset (removing outlier) based on the MAD technique."
      ]
    },
    {
      "cell_type": "code",
      "execution_count": null,
      "id": "b70b2ba5",
      "metadata": {
        "id": "b70b2ba5"
      },
      "outputs": [],
      "source": [
        "df.shape"
      ]
    },
    {
      "cell_type": "code",
      "execution_count": null,
      "id": "5f52d153",
      "metadata": {
        "id": "5f52d153"
      },
      "outputs": [],
      "source": [
        "#call province median from the dictionary\n",
        "Median = median_prices[\"Tokyo\"]\n",
        "\n",
        "#difference between each price_per_area with the called median\n",
        "df['Median_Diff'] = 0\n",
        "\n",
        "for i in range(len(df)):\n",
        "    median_diff = abs(df.loc[i , 'Price_per_Area'] - Median)\n",
        "    df.at[i, 'Median_Diff'] = median_diff\n",
        "\n",
        "#calculate the median of new column\n",
        "MAD = df['Median_Diff'].median()\n",
        "\n",
        "#determine treshold\n",
        "threshold = MAD * 3\n",
        "\n",
        "#detect and filter rows based on outlier\n",
        "df = df[~(df['Median_Diff'] > threshold)]\n",
        "\n",
        "#remove the differenece column\n",
        "df = df.drop(['Median_Diff'], axis=1)"
      ]
    },
    {
      "cell_type": "markdown",
      "id": "a8cd7d35",
      "metadata": {
        "id": "a8cd7d35"
      },
      "source": [
        "For the last time, let’s see the distribution of price."
      ]
    },
    {
      "cell_type": "code",
      "execution_count": null,
      "id": "40266d8c",
      "metadata": {
        "id": "40266d8c"
      },
      "outputs": [],
      "source": [
        "plt.figure(figsize = (8,3))\n",
        "sns.distplot(df['Price_per_Area'], kde_kws={\"lw\": 5}, hist_kws = {'alpha': 0.25})\n",
        "sns.despine(left = True)\n",
        "\n",
        "mean = df['Price_per_Area'].mean()\n",
        "median = df['Price_per_Area'].median()\n",
        "\n",
        "plt.axvline(mean, color ='black', linestyle ='dashed')\n",
        "plt.axvline(median, color ='green', linestyle ='solid')\n",
        "plt.xlabel('')\n",
        "plt.ylabel('')\n",
        "\n",
        "plt.show()"
      ]
    },
    {
      "cell_type": "code",
      "execution_count": null,
      "id": "9a9012d1",
      "metadata": {
        "id": "9a9012d1"
      },
      "outputs": [],
      "source": [
        "df=df.drop(['Price_per_Area'], axis=1)"
      ]
    },
    {
      "cell_type": "markdown",
      "id": "b8c7941f",
      "metadata": {
        "id": "b8c7941f"
      },
      "source": [
        "<hr>"
      ]
    },
    {
      "cell_type": "markdown",
      "id": "abadbdf2",
      "metadata": {
        "id": "abadbdf2"
      },
      "source": [
        "# Check Point"
      ]
    },
    {
      "cell_type": "code",
      "execution_count": null,
      "id": "81bbcb45",
      "metadata": {
        "id": "81bbcb45"
      },
      "outputs": [],
      "source": [
        "import pickle\n",
        "with open('Dataset/final_dataset.pickle', 'wb') as file:\n",
        "    pickle.dump(df, file)"
      ]
    }
  ],
  "metadata": {
    "kernelspec": {
      "display_name": "Python 3 (ipykernel)",
      "language": "python",
      "name": "python3"
    },
    "language_info": {
      "codemirror_mode": {
        "name": "ipython",
        "version": 3
      },
      "file_extension": ".py",
      "mimetype": "text/x-python",
      "name": "python",
      "nbconvert_exporter": "python",
      "pygments_lexer": "ipython3",
      "version": "3.9.13"
    },
    "colab": {
      "provenance": [],
      "include_colab_link": true
    }
  },
  "nbformat": 4,
  "nbformat_minor": 5
}